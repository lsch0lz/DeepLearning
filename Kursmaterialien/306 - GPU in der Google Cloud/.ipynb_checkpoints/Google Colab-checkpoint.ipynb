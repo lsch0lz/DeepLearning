{
 "cells": [
  {
   "cell_type": "code",
   "execution_count": 1,
   "metadata": {
    "colab": {
     "base_uri": "https://localhost:8080/",
     "height": 35
    },
    "colab_type": "code",
    "executionInfo": {
     "elapsed": 10022,
     "status": "ok",
     "timestamp": 1588672260450,
     "user": {
      "displayName": "Jannis Seemann",
      "photoUrl": "",
      "userId": "05936000240872539841"
     },
     "user_tz": -180
    },
    "id": "isPcu4_XO1lY",
    "outputId": "e5689cb8-3b18-44ca-98fb-8971dad90480"
   },
   "outputs": [
    {
     "name": "stdout",
     "output_type": "stream",
     "text": [
      "/device:GPU:0\n"
     ]
    }
   ],
   "source": [
    "import tensorflow as tf\n",
    "print(tf.test.gpu_device_name())"
   ]
  },
  {
   "cell_type": "code",
   "execution_count": 2,
   "metadata": {
    "colab": {
     "base_uri": "https://localhost:8080/",
     "height": 300
    },
    "colab_type": "code",
    "executionInfo": {
     "elapsed": 3091,
     "status": "ok",
     "timestamp": 1588672290286,
     "user": {
      "displayName": "Jannis Seemann",
      "photoUrl": "",
      "userId": "05936000240872539841"
     },
     "user_tz": -180
    },
    "id": "u6xefowGPxMo",
    "outputId": "b73bbfab-718a-4f90-af08-a2bad9e3ad90"
   },
   "outputs": [
    {
     "name": "stdout",
     "output_type": "stream",
     "text": [
      "Tue May  5 09:51:28 2020       \n",
      "+-----------------------------------------------------------------------------+\n",
      "| NVIDIA-SMI 440.64.00    Driver Version: 418.67       CUDA Version: 10.1     |\n",
      "|-------------------------------+----------------------+----------------------+\n",
      "| GPU  Name        Persistence-M| Bus-Id        Disp.A | Volatile Uncorr. ECC |\n",
      "| Fan  Temp  Perf  Pwr:Usage/Cap|         Memory-Usage | GPU-Util  Compute M. |\n",
      "|===============================+======================+======================|\n",
      "|   0  Tesla P100-PCIE...  Off  | 00000000:00:04.0 Off |                    0 |\n",
      "| N/A   35C    P0    32W / 250W |    353MiB / 16280MiB |      0%      Default |\n",
      "+-------------------------------+----------------------+----------------------+\n",
      "                                                                               \n",
      "+-----------------------------------------------------------------------------+\n",
      "| Processes:                                                       GPU Memory |\n",
      "|  GPU       PID   Type   Process name                             Usage      |\n",
      "|=============================================================================|\n",
      "+-----------------------------------------------------------------------------+\n"
     ]
    }
   ],
   "source": [
    "!nvidia-smi"
   ]
  },
  {
   "cell_type": "code",
   "execution_count": 0,
   "metadata": {
    "colab": {},
    "colab_type": "code",
    "id": "rSLw02I6RG9e"
   },
   "outputs": [],
   "source": [
    "# Install the PyDrive wrapper & import libraries.\n",
    "# This only needs to be done once per notebook.\n",
    "!pip install -U -q PyDrive\n",
    "from pydrive.auth import GoogleAuth\n",
    "from pydrive.drive import GoogleDrive\n",
    "from google.colab import auth\n",
    "from oauth2client.client import GoogleCredentials\n",
    "\n",
    "# Authenticate and create the PyDrive client.\n",
    "# This only needs to be done once per notebook.\n",
    "auth.authenticate_user()\n",
    "gauth = GoogleAuth()\n",
    "gauth.credentials = GoogleCredentials.get_application_default()\n",
    "drive = GoogleDrive(gauth)"
   ]
  },
  {
   "cell_type": "code",
   "execution_count": 6,
   "metadata": {
    "colab": {
     "base_uri": "https://localhost:8080/",
     "height": 106
    },
    "colab_type": "code",
    "executionInfo": {
     "elapsed": 26867,
     "status": "ok",
     "timestamp": 1588672816009,
     "user": {
      "displayName": "Jannis Seemann",
      "photoUrl": "",
      "userId": "05936000240872539841"
     },
     "user_tz": -180
    },
    "id": "gXX6Bv3IRV0V",
    "outputId": "47a018f7-3052-4ba6-f818-d00e97f43239"
   },
   "outputs": [
    {
     "name": "stdout",
     "output_type": "stream",
     "text": [
      "creating directory /root/data/mnist\n",
      "4 files were uploaded in /root/data/mnist\n",
      "creating directory /root/data/fashion\n",
      "5 files were uploaded in /root/data/fashion\n",
      "1 files were uploaded in /root/data\n"
     ]
    }
   ],
   "source": [
    "import os\n",
    "\n",
    "# choose a local (colab) directory to store the data.\n",
    "local_root_path = os.path.expanduser(\"~/data\")\n",
    "try:\n",
    "  os.makedirs(local_root_path)\n",
    "except: pass\n",
    "\n",
    "def ListFolder(google_drive_id, destination):\n",
    "  file_list = drive.ListFile({'q': \"'%s' in parents and trashed=false\" % google_drive_id}).GetList()\n",
    "  counter = 0\n",
    "  for f in file_list:\n",
    "    # If it is a directory then, create the dicrectory and upload the file inside it\n",
    "    if f['mimeType']=='application/vnd.google-apps.folder': \n",
    "      folder_path = os.path.join(destination, f['title'])\n",
    "      os.makedirs(folder_path)\n",
    "      print('creating directory {}'.format(folder_path))\n",
    "      ListFolder(f['id'], folder_path)\n",
    "    else:\n",
    "      fname = os.path.join(destination, f['title'])\n",
    "      f_ = drive.CreateFile({'id': f['id']})\n",
    "      f_.GetContentFile(fname)\n",
    "      counter += 1\n",
    "  print('{} files were uploaded in {}'.format(counter, destination))\n",
    "\n",
    "ListFolder(\"1aLvYGyuY6xWLUssYRVyyk3EtPZodLUBR\", local_root_path)"
   ]
  },
  {
   "cell_type": "code",
   "execution_count": 0,
   "metadata": {
    "colab": {},
    "colab_type": "code",
    "id": "wcRljqmaOZ8o"
   },
   "outputs": [],
   "source": [
    "# Vorstellung: MNIST-Daten!\n",
    "# http://yann.lecun.com/exdb/mnist/\n",
    "# FashionMNIST: https://github.com/zalandoresearch/fashion-mnist\n",
    "\n",
    "import gzip\n",
    "import numpy as np\n",
    "from keras.utils import to_categorical\n",
    "\n",
    "def open_images(filename):\n",
    "    with gzip.open(filename, \"rb\") as file:\n",
    "        data = file.read()\n",
    "        return np.frombuffer(data, dtype=np.uint8, offset=16)\\\n",
    "            .reshape(-1, 28, 28)\\\n",
    "            .astype(np.float32)\n",
    "\n",
    "\n",
    "def open_labels(filename):\n",
    "    with gzip.open(filename, \"rb\") as file:\n",
    "        data = file.read()\n",
    "        return np.frombuffer(data, dtype=np.uint8, offset=8)\n",
    "    \n",
    "X_train = open_images(\"/root/data/fashion/train-images-idx3-ubyte.gz\")\n",
    "y_train = open_labels(\"/root/data/fashion/train-labels-idx1-ubyte.gz\")\n",
    "\n",
    "X_test = open_images(\"/root/data/fashion/t10k-images-idx3-ubyte.gz\")\n",
    "y_test = open_labels(\"/root/data/fashion/t10k-labels-idx1-ubyte.gz\")\n",
    "\n",
    "y_train = to_categorical(y_train)\n",
    "y_test = to_categorical(y_test)"
   ]
  },
  {
   "cell_type": "code",
   "execution_count": 12,
   "metadata": {
    "colab": {
     "base_uri": "https://localhost:8080/",
     "height": 1000
    },
    "colab_type": "code",
    "executionInfo": {
     "elapsed": 74863,
     "status": "ok",
     "timestamp": 1588673121746,
     "user": {
      "displayName": "Jannis Seemann",
      "photoUrl": "",
      "userId": "05936000240872539841"
     },
     "user_tz": -180
    },
    "id": "FooVBG8iOZ82",
    "outputId": "dd318123-1892-4f19-dafd-f437f8041921"
   },
   "outputs": [
    {
     "name": "stdout",
     "output_type": "stream",
     "text": [
      "Epoch 1/80\n",
      "60000/60000 [==============================] - 1s 10us/step - loss: 44.8694 - accuracy: 0.6693\n",
      "Epoch 2/80\n",
      "60000/60000 [==============================] - 1s 9us/step - loss: 2.8741 - accuracy: 0.8208\n",
      "Epoch 3/80\n",
      "60000/60000 [==============================] - 1s 8us/step - loss: 0.5555 - accuracy: 0.8632\n",
      "Epoch 4/80\n",
      "60000/60000 [==============================] - 1s 9us/step - loss: 0.3067 - accuracy: 0.8925\n",
      "Epoch 5/80\n",
      "60000/60000 [==============================] - 1s 9us/step - loss: 0.2345 - accuracy: 0.9138\n",
      "Epoch 6/80\n",
      "60000/60000 [==============================] - 1s 9us/step - loss: 0.1983 - accuracy: 0.9264\n",
      "Epoch 7/80\n",
      "60000/60000 [==============================] - 1s 9us/step - loss: 0.1681 - accuracy: 0.9383\n",
      "Epoch 8/80\n",
      "60000/60000 [==============================] - 1s 9us/step - loss: 0.1508 - accuracy: 0.9443\n",
      "Epoch 9/80\n",
      "60000/60000 [==============================] - 1s 9us/step - loss: 0.1305 - accuracy: 0.9522\n",
      "Epoch 10/80\n",
      "60000/60000 [==============================] - 1s 9us/step - loss: 0.1214 - accuracy: 0.9546\n",
      "Epoch 11/80\n",
      "60000/60000 [==============================] - 1s 9us/step - loss: 0.1078 - accuracy: 0.9598\n",
      "Epoch 12/80\n",
      "60000/60000 [==============================] - 1s 9us/step - loss: 0.1008 - accuracy: 0.9620\n",
      "Epoch 13/80\n",
      "60000/60000 [==============================] - 1s 9us/step - loss: 0.0889 - accuracy: 0.9670\n",
      "Epoch 14/80\n",
      "60000/60000 [==============================] - 1s 9us/step - loss: 0.0828 - accuracy: 0.9694\n",
      "Epoch 15/80\n",
      "60000/60000 [==============================] - 1s 9us/step - loss: 0.0750 - accuracy: 0.9724\n",
      "Epoch 16/80\n",
      "60000/60000 [==============================] - 1s 9us/step - loss: 0.0728 - accuracy: 0.9732\n",
      "Epoch 17/80\n",
      "60000/60000 [==============================] - 1s 9us/step - loss: 0.0662 - accuracy: 0.9761\n",
      "Epoch 18/80\n",
      "60000/60000 [==============================] - 1s 9us/step - loss: 0.0611 - accuracy: 0.9783\n",
      "Epoch 19/80\n",
      "60000/60000 [==============================] - 1s 9us/step - loss: 0.0579 - accuracy: 0.9792\n",
      "Epoch 20/80\n",
      "60000/60000 [==============================] - 1s 9us/step - loss: 0.0539 - accuracy: 0.9809\n",
      "Epoch 21/80\n",
      "60000/60000 [==============================] - 1s 9us/step - loss: 0.0512 - accuracy: 0.9816\n",
      "Epoch 22/80\n",
      "60000/60000 [==============================] - 1s 9us/step - loss: 0.0481 - accuracy: 0.9827\n",
      "Epoch 23/80\n",
      "60000/60000 [==============================] - 1s 9us/step - loss: 0.0449 - accuracy: 0.9840\n",
      "Epoch 24/80\n",
      "60000/60000 [==============================] - 1s 9us/step - loss: 0.0415 - accuracy: 0.9853\n",
      "Epoch 25/80\n",
      "60000/60000 [==============================] - 1s 9us/step - loss: 0.0421 - accuracy: 0.9852\n",
      "Epoch 26/80\n",
      "60000/60000 [==============================] - 1s 9us/step - loss: 0.0370 - accuracy: 0.9866\n",
      "Epoch 27/80\n",
      "60000/60000 [==============================] - 1s 9us/step - loss: 0.0357 - accuracy: 0.9871\n",
      "Epoch 28/80\n",
      "60000/60000 [==============================] - 1s 9us/step - loss: 0.0336 - accuracy: 0.9883\n",
      "Epoch 29/80\n",
      "60000/60000 [==============================] - 1s 9us/step - loss: 0.0317 - accuracy: 0.9894\n",
      "Epoch 30/80\n",
      "60000/60000 [==============================] - 1s 9us/step - loss: 0.0304 - accuracy: 0.9892\n",
      "Epoch 31/80\n",
      "60000/60000 [==============================] - 1s 9us/step - loss: 0.0276 - accuracy: 0.9902\n",
      "Epoch 32/80\n",
      "60000/60000 [==============================] - 1s 9us/step - loss: 0.0282 - accuracy: 0.9902\n",
      "Epoch 33/80\n",
      "60000/60000 [==============================] - 1s 9us/step - loss: 0.0260 - accuracy: 0.9909\n",
      "Epoch 34/80\n",
      "60000/60000 [==============================] - 1s 9us/step - loss: 0.0241 - accuracy: 0.9915\n",
      "Epoch 35/80\n",
      "60000/60000 [==============================] - 1s 9us/step - loss: 0.0237 - accuracy: 0.9921\n",
      "Epoch 36/80\n",
      "60000/60000 [==============================] - 1s 8us/step - loss: 0.0226 - accuracy: 0.9920\n",
      "Epoch 37/80\n",
      "60000/60000 [==============================] - 1s 9us/step - loss: 0.0203 - accuracy: 0.9935\n",
      "Epoch 38/80\n",
      "60000/60000 [==============================] - 1s 9us/step - loss: 0.0218 - accuracy: 0.9925\n",
      "Epoch 39/80\n",
      "60000/60000 [==============================] - 1s 9us/step - loss: 0.0191 - accuracy: 0.9936\n",
      "Epoch 40/80\n",
      "60000/60000 [==============================] - 1s 9us/step - loss: 0.0195 - accuracy: 0.9934\n",
      "Epoch 41/80\n",
      "60000/60000 [==============================] - 1s 9us/step - loss: 0.0179 - accuracy: 0.9941\n",
      "Epoch 42/80\n",
      "60000/60000 [==============================] - 1s 8us/step - loss: 0.0168 - accuracy: 0.9941\n",
      "Epoch 43/80\n",
      "60000/60000 [==============================] - 1s 9us/step - loss: 0.0178 - accuracy: 0.9937\n",
      "Epoch 44/80\n",
      "60000/60000 [==============================] - 1s 9us/step - loss: 0.0151 - accuracy: 0.9949\n",
      "Epoch 45/80\n",
      "60000/60000 [==============================] - 1s 9us/step - loss: 0.0146 - accuracy: 0.9949\n",
      "Epoch 46/80\n",
      "60000/60000 [==============================] - 1s 9us/step - loss: 0.0153 - accuracy: 0.9946\n",
      "Epoch 47/80\n",
      "60000/60000 [==============================] - 1s 9us/step - loss: 0.0138 - accuracy: 0.9953\n",
      "Epoch 48/80\n",
      "60000/60000 [==============================] - 1s 9us/step - loss: 0.0124 - accuracy: 0.9959\n",
      "Epoch 49/80\n",
      "60000/60000 [==============================] - 1s 9us/step - loss: 0.0142 - accuracy: 0.9952\n",
      "Epoch 50/80\n",
      "60000/60000 [==============================] - 1s 9us/step - loss: 0.0129 - accuracy: 0.9957\n",
      "Epoch 51/80\n",
      "60000/60000 [==============================] - 1s 9us/step - loss: 0.0116 - accuracy: 0.9961\n",
      "Epoch 52/80\n",
      "60000/60000 [==============================] - 1s 9us/step - loss: 0.0121 - accuracy: 0.9959\n",
      "Epoch 53/80\n",
      "60000/60000 [==============================] - 1s 9us/step - loss: 0.0095 - accuracy: 0.9968\n",
      "Epoch 54/80\n",
      "60000/60000 [==============================] - 1s 9us/step - loss: 0.0119 - accuracy: 0.9959\n",
      "Epoch 55/80\n",
      "60000/60000 [==============================] - 1s 9us/step - loss: 0.0098 - accuracy: 0.9968\n",
      "Epoch 56/80\n",
      "60000/60000 [==============================] - 1s 9us/step - loss: 0.0103 - accuracy: 0.9968\n",
      "Epoch 57/80\n",
      "60000/60000 [==============================] - 1s 9us/step - loss: 0.0098 - accuracy: 0.9965\n",
      "Epoch 58/80\n",
      "60000/60000 [==============================] - 1s 9us/step - loss: 0.0087 - accuracy: 0.9972\n",
      "Epoch 59/80\n",
      "60000/60000 [==============================] - 0s 8us/step - loss: 0.0097 - accuracy: 0.9967\n",
      "Epoch 60/80\n",
      "60000/60000 [==============================] - 1s 9us/step - loss: 0.0083 - accuracy: 0.9972\n",
      "Epoch 61/80\n",
      "60000/60000 [==============================] - 1s 8us/step - loss: 0.0075 - accuracy: 0.9976\n",
      "Epoch 62/80\n",
      "60000/60000 [==============================] - 1s 9us/step - loss: 0.0083 - accuracy: 0.9973\n",
      "Epoch 63/80\n",
      "60000/60000 [==============================] - 1s 9us/step - loss: 0.0078 - accuracy: 0.9974\n",
      "Epoch 64/80\n",
      "60000/60000 [==============================] - 1s 9us/step - loss: 0.0073 - accuracy: 0.9976\n",
      "Epoch 65/80\n",
      "60000/60000 [==============================] - 1s 9us/step - loss: 0.0097 - accuracy: 0.9967\n",
      "Epoch 66/80\n",
      "60000/60000 [==============================] - 1s 9us/step - loss: 0.0069 - accuracy: 0.9979\n",
      "Epoch 67/80\n",
      "60000/60000 [==============================] - 1s 9us/step - loss: 0.0061 - accuracy: 0.9981\n",
      "Epoch 68/80\n",
      "60000/60000 [==============================] - 1s 9us/step - loss: 0.0075 - accuracy: 0.9974\n",
      "Epoch 69/80\n",
      "60000/60000 [==============================] - 1s 8us/step - loss: 0.0064 - accuracy: 0.9979\n",
      "Epoch 70/80\n",
      "60000/60000 [==============================] - 1s 9us/step - loss: 0.0065 - accuracy: 0.9980\n",
      "Epoch 71/80\n",
      "60000/60000 [==============================] - 1s 9us/step - loss: 0.0067 - accuracy: 0.9977\n",
      "Epoch 72/80\n",
      "60000/60000 [==============================] - 1s 9us/step - loss: 0.0070 - accuracy: 0.9980\n",
      "Epoch 73/80\n",
      "60000/60000 [==============================] - 1s 9us/step - loss: 0.0053 - accuracy: 0.9983\n",
      "Epoch 74/80\n",
      "60000/60000 [==============================] - 1s 9us/step - loss: 0.0064 - accuracy: 0.9980\n",
      "Epoch 75/80\n",
      "60000/60000 [==============================] - 1s 9us/step - loss: 0.0067 - accuracy: 0.9979\n",
      "Epoch 76/80\n",
      "60000/60000 [==============================] - 1s 9us/step - loss: 0.0062 - accuracy: 0.9980\n",
      "Epoch 77/80\n",
      "60000/60000 [==============================] - 1s 9us/step - loss: 0.0045 - accuracy: 0.9986\n",
      "Epoch 78/80\n",
      "60000/60000 [==============================] - 1s 9us/step - loss: 0.0061 - accuracy: 0.9981\n",
      "Epoch 79/80\n",
      "60000/60000 [==============================] - 1s 9us/step - loss: 0.0066 - accuracy: 0.9981\n",
      "Epoch 80/80\n",
      "60000/60000 [==============================] - 1s 9us/step - loss: 0.0059 - accuracy: 0.9978\n"
     ]
    },
    {
     "data": {
      "text/plain": [
       "<keras.callbacks.callbacks.History at 0x7fb78c134828>"
      ]
     },
     "execution_count": 12,
     "metadata": {
      "tags": []
     },
     "output_type": "execute_result"
    }
   ],
   "source": [
    "# CNN!\n",
    "\n",
    "from keras.models import Sequential\n",
    "from keras.layers import Dense, Conv2D, Flatten\n",
    "\n",
    "model = Sequential()\n",
    "\n",
    "model.add(Conv2D(30, kernel_size=(3, 3), activation=\"relu\", input_shape=(28, 28, 1)))\n",
    "model.add(Flatten())\n",
    "model.add(Dense(10, activation=\"softmax\"))\n",
    "\n",
    "model.compile(optimizer=\"rmsprop\", loss=\"categorical_crossentropy\", metrics=[\"accuracy\"])\n",
    "\n",
    "model.fit(\n",
    "    X_train.reshape(60000, 28, 28, 1),\n",
    "    y_train,\n",
    "    epochs=80,\n",
    "    batch_size=1000)"
   ]
  }
 ],
 "metadata": {
  "accelerator": "GPU",
  "colab": {
   "name": "Google Colab.ipynb",
   "provenance": []
  },
  "kernelspec": {
   "display_name": "Python 3",
   "language": "python",
   "name": "python3"
  },
  "language_info": {
   "codemirror_mode": {
    "name": "ipython",
    "version": 3
   },
   "file_extension": ".py",
   "mimetype": "text/x-python",
   "name": "python",
   "nbconvert_exporter": "python",
   "pygments_lexer": "ipython3",
   "version": "3.8.3"
  }
 },
 "nbformat": 4,
 "nbformat_minor": 1
}
