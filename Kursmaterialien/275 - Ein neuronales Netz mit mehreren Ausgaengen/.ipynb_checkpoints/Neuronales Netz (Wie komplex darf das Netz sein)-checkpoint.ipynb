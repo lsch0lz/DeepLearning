{
 "cells": [
  {
   "cell_type": "code",
   "execution_count": 1,
   "metadata": {},
   "outputs": [],
   "source": [
    "# Vorstellung: MNIST-Daten!\n",
    "# http://yann.lecun.com/exdb/mnist/\n",
    "# FashionMNIST: https://github.com/zalandoresearch/fashion-mnist\n",
    "\n",
    "import gzip\n",
    "import numpy as np\n",
    "from keras.utils import to_categorical\n",
    "\n",
    "def open_images(filename):\n",
    "    with gzip.open(filename, \"rb\") as file:\n",
    "        data = file.read()\n",
    "        return np.frombuffer(data, dtype=np.uint8, offset=16)\\\n",
    "            .reshape(-1, 28, 28)\\\n",
    "            .astype(np.float32)\n",
    "\n",
    "\n",
    "def open_labels(filename):\n",
    "    with gzip.open(filename, \"rb\") as file:\n",
    "        data = file.read()\n",
    "        return np.frombuffer(data, dtype=np.uint8, offset=8)\n",
    "    \n",
    "X_train = open_images(\"../data/fashion/train-images-idx3-ubyte.gz\")\n",
    "y_train = open_labels(\"../data/fashion/train-labels-idx1-ubyte.gz\")\n",
    "\n",
    "X_test = open_images(\"../data/fashion/t10k-images-idx3-ubyte.gz\")\n",
    "y_test = open_labels(\"../data/fashion/t10k-labels-idx1-ubyte.gz\")\n",
    "\n",
    "y_train = to_categorical(y_train)\n",
    "y_test = to_categorical(y_test)"
   ]
  },
  {
   "cell_type": "markdown",
   "metadata": {},
   "source": [
    "### Neuronales Netz (mit Softmax)"
   ]
  },
  {
   "cell_type": "code",
   "execution_count": 2,
   "metadata": {},
   "outputs": [],
   "source": [
    "from keras.models import Sequential\n",
    "from keras.layers import Dense"
   ]
  },
  {
   "cell_type": "code",
   "execution_count": 23,
   "metadata": {},
   "outputs": [],
   "source": [
    "model = Sequential()\n",
    "\n",
    "model.add(Dense(200, activation=\"sigmoid\", input_shape=(784,)))\n",
    "model.add(Dense(200, activation=\"sigmoid\", input_shape=(784,)))\n",
    "model.add(Dense(200, activation=\"sigmoid\", input_shape=(784,)))\n",
    "model.add(Dense(200, activation=\"sigmoid\", input_shape=(784,)))\n",
    "\n",
    "model.add(Dense(10, activation=\"softmax\"))\n",
    "\n",
    "# rmsprop, adam\n",
    "model.compile(optimizer=\"rmsprop\", loss=\"categorical_crossentropy\", metrics=[\"accuracy\"])"
   ]
  },
  {
   "cell_type": "code",
   "execution_count": 24,
   "metadata": {},
   "outputs": [
    {
     "name": "stdout",
     "output_type": "stream",
     "text": [
      "Epoch 1/100\n",
      "60/60 [==============================] - 0s 8ms/step - loss: 1.6068 - accuracy: 0.3766\n",
      "Epoch 2/100\n",
      "60/60 [==============================] - 0s 8ms/step - loss: 0.9634 - accuracy: 0.6320\n",
      "Epoch 3/100\n",
      "60/60 [==============================] - 0s 8ms/step - loss: 0.7890 - accuracy: 0.7036\n",
      "Epoch 4/100\n",
      "60/60 [==============================] - 0s 8ms/step - loss: 0.7068 - accuracy: 0.7318\n",
      "Epoch 5/100\n",
      "60/60 [==============================] - 0s 8ms/step - loss: 0.6640 - accuracy: 0.7450\n",
      "Epoch 6/100\n",
      "60/60 [==============================] - 0s 8ms/step - loss: 0.6380 - accuracy: 0.7567\n",
      "Epoch 7/100\n",
      "60/60 [==============================] - 0s 8ms/step - loss: 0.6237 - accuracy: 0.7603\n",
      "Epoch 8/100\n",
      "60/60 [==============================] - 0s 8ms/step - loss: 0.5998 - accuracy: 0.7696\n",
      "Epoch 9/100\n",
      "60/60 [==============================] - 0s 8ms/step - loss: 0.5804 - accuracy: 0.7771\n",
      "Epoch 10/100\n",
      "60/60 [==============================] - 0s 8ms/step - loss: 0.5685 - accuracy: 0.7851\n",
      "Epoch 11/100\n",
      "60/60 [==============================] - 0s 8ms/step - loss: 0.5575 - accuracy: 0.7908\n",
      "Epoch 12/100\n",
      "60/60 [==============================] - 0s 8ms/step - loss: 0.5469 - accuracy: 0.7961\n",
      "Epoch 13/100\n",
      "60/60 [==============================] - 0s 8ms/step - loss: 0.5345 - accuracy: 0.8001\n",
      "Epoch 14/100\n",
      "60/60 [==============================] - 0s 8ms/step - loss: 0.5272 - accuracy: 0.8061\n",
      "Epoch 15/100\n",
      "60/60 [==============================] - 0s 8ms/step - loss: 0.5197 - accuracy: 0.8091\n",
      "Epoch 16/100\n",
      "60/60 [==============================] - 0s 8ms/step - loss: 0.5116 - accuracy: 0.8139\n",
      "Epoch 17/100\n",
      "60/60 [==============================] - 0s 8ms/step - loss: 0.5068 - accuracy: 0.8135\n",
      "Epoch 18/100\n",
      "60/60 [==============================] - 0s 8ms/step - loss: 0.5011 - accuracy: 0.8181\n",
      "Epoch 19/100\n",
      "60/60 [==============================] - 0s 8ms/step - loss: 0.4903 - accuracy: 0.8210\n",
      "Epoch 20/100\n",
      "60/60 [==============================] - 0s 8ms/step - loss: 0.4990 - accuracy: 0.8187\n",
      "Epoch 21/100\n",
      "60/60 [==============================] - 0s 8ms/step - loss: 0.4918 - accuracy: 0.8211\n",
      "Epoch 22/100\n",
      "60/60 [==============================] - 0s 8ms/step - loss: 0.4815 - accuracy: 0.8247\n",
      "Epoch 23/100\n",
      "60/60 [==============================] - 0s 8ms/step - loss: 0.4701 - accuracy: 0.8296\n",
      "Epoch 24/100\n",
      "60/60 [==============================] - 0s 8ms/step - loss: 0.4714 - accuracy: 0.8273\n",
      "Epoch 25/100\n",
      "60/60 [==============================] - 1s 8ms/step - loss: 0.4692 - accuracy: 0.8294\n",
      "Epoch 26/100\n",
      "60/60 [==============================] - 0s 8ms/step - loss: 0.4734 - accuracy: 0.8261\n",
      "Epoch 27/100\n",
      "60/60 [==============================] - 0s 8ms/step - loss: 0.4584 - accuracy: 0.8333\n",
      "Epoch 28/100\n",
      "60/60 [==============================] - 0s 8ms/step - loss: 0.4560 - accuracy: 0.8327\n",
      "Epoch 29/100\n",
      "60/60 [==============================] - 0s 8ms/step - loss: 0.4494 - accuracy: 0.8359\n",
      "Epoch 30/100\n",
      "60/60 [==============================] - 0s 8ms/step - loss: 0.4513 - accuracy: 0.8352\n",
      "Epoch 31/100\n",
      "60/60 [==============================] - 0s 8ms/step - loss: 0.4460 - accuracy: 0.8350\n",
      "Epoch 32/100\n",
      "60/60 [==============================] - 0s 8ms/step - loss: 0.4432 - accuracy: 0.8383\n",
      "Epoch 33/100\n",
      "60/60 [==============================] - 0s 8ms/step - loss: 0.4413 - accuracy: 0.8371\n",
      "Epoch 34/100\n",
      "60/60 [==============================] - 0s 8ms/step - loss: 0.4345 - accuracy: 0.8411\n",
      "Epoch 35/100\n",
      "60/60 [==============================] - 0s 8ms/step - loss: 0.4375 - accuracy: 0.8396\n",
      "Epoch 36/100\n",
      "60/60 [==============================] - 0s 8ms/step - loss: 0.4320 - accuracy: 0.8435\n",
      "Epoch 37/100\n",
      "60/60 [==============================] - 0s 8ms/step - loss: 0.4289 - accuracy: 0.8421\n",
      "Epoch 38/100\n",
      "60/60 [==============================] - 0s 8ms/step - loss: 0.4314 - accuracy: 0.8415\n",
      "Epoch 39/100\n",
      "60/60 [==============================] - 0s 7ms/step - loss: 0.4247 - accuracy: 0.8445\n",
      "Epoch 40/100\n",
      "60/60 [==============================] - 0s 8ms/step - loss: 0.4247 - accuracy: 0.8449\n",
      "Epoch 41/100\n",
      "60/60 [==============================] - 1s 8ms/step - loss: 0.4225 - accuracy: 0.8457\n",
      "Epoch 42/100\n",
      "60/60 [==============================] - 0s 8ms/step - loss: 0.4205 - accuracy: 0.8476\n",
      "Epoch 43/100\n",
      "60/60 [==============================] - 0s 8ms/step - loss: 0.4194 - accuracy: 0.8471\n",
      "Epoch 44/100\n",
      "60/60 [==============================] - 0s 8ms/step - loss: 0.4167 - accuracy: 0.8470\n",
      "Epoch 45/100\n",
      "60/60 [==============================] - 0s 8ms/step - loss: 0.4141 - accuracy: 0.8488\n",
      "Epoch 46/100\n",
      "60/60 [==============================] - 0s 8ms/step - loss: 0.4224 - accuracy: 0.8454\n",
      "Epoch 47/100\n",
      "60/60 [==============================] - 0s 8ms/step - loss: 0.4130 - accuracy: 0.8482\n",
      "Epoch 48/100\n",
      "60/60 [==============================] - 0s 8ms/step - loss: 0.4117 - accuracy: 0.8479\n",
      "Epoch 49/100\n",
      "60/60 [==============================] - 0s 8ms/step - loss: 0.4070 - accuracy: 0.8511\n",
      "Epoch 50/100\n",
      "60/60 [==============================] - 0s 8ms/step - loss: 0.4038 - accuracy: 0.8523\n",
      "Epoch 51/100\n",
      "60/60 [==============================] - 0s 8ms/step - loss: 0.3935 - accuracy: 0.8558\n",
      "Epoch 52/100\n",
      "60/60 [==============================] - 0s 8ms/step - loss: 0.4042 - accuracy: 0.8508\n",
      "Epoch 53/100\n",
      "60/60 [==============================] - 0s 8ms/step - loss: 0.4004 - accuracy: 0.8519\n",
      "Epoch 54/100\n",
      "60/60 [==============================] - 0s 8ms/step - loss: 0.3925 - accuracy: 0.8568\n",
      "Epoch 55/100\n",
      "60/60 [==============================] - 0s 8ms/step - loss: 0.3995 - accuracy: 0.8524\n",
      "Epoch 56/100\n",
      "60/60 [==============================] - 0s 8ms/step - loss: 0.3935 - accuracy: 0.8556\n",
      "Epoch 57/100\n",
      "60/60 [==============================] - 0s 8ms/step - loss: 0.3958 - accuracy: 0.8561\n",
      "Epoch 58/100\n",
      "60/60 [==============================] - 0s 8ms/step - loss: 0.4053 - accuracy: 0.8517\n",
      "Epoch 59/100\n",
      "60/60 [==============================] - 0s 8ms/step - loss: 0.4028 - accuracy: 0.8522\n",
      "Epoch 60/100\n",
      "60/60 [==============================] - 0s 8ms/step - loss: 0.3979 - accuracy: 0.8532\n",
      "Epoch 61/100\n",
      "60/60 [==============================] - 0s 8ms/step - loss: 0.3942 - accuracy: 0.8543\n",
      "Epoch 62/100\n",
      "60/60 [==============================] - 0s 8ms/step - loss: 0.3945 - accuracy: 0.8551\n",
      "Epoch 63/100\n",
      "60/60 [==============================] - 0s 8ms/step - loss: 0.3961 - accuracy: 0.8527\n",
      "Epoch 64/100\n",
      "60/60 [==============================] - 0s 8ms/step - loss: 0.3909 - accuracy: 0.8559\n",
      "Epoch 65/100\n",
      "60/60 [==============================] - 0s 8ms/step - loss: 0.3926 - accuracy: 0.8537\n",
      "Epoch 66/100\n",
      "60/60 [==============================] - 0s 8ms/step - loss: 0.3885 - accuracy: 0.8583\n",
      "Epoch 67/100\n",
      "60/60 [==============================] - 0s 8ms/step - loss: 0.3843 - accuracy: 0.8594\n",
      "Epoch 68/100\n",
      "60/60 [==============================] - 0s 8ms/step - loss: 0.3870 - accuracy: 0.8587\n",
      "Epoch 69/100\n",
      "60/60 [==============================] - 0s 8ms/step - loss: 0.3923 - accuracy: 0.8560\n",
      "Epoch 70/100\n",
      "60/60 [==============================] - 0s 8ms/step - loss: 0.3919 - accuracy: 0.8571\n",
      "Epoch 71/100\n",
      "60/60 [==============================] - 0s 8ms/step - loss: 0.3836 - accuracy: 0.8595\n",
      "Epoch 72/100\n",
      "60/60 [==============================] - 0s 8ms/step - loss: 0.3823 - accuracy: 0.8592\n",
      "Epoch 73/100\n",
      "60/60 [==============================] - 0s 8ms/step - loss: 0.3888 - accuracy: 0.8564\n",
      "Epoch 74/100\n",
      "60/60 [==============================] - 0s 8ms/step - loss: 0.3832 - accuracy: 0.8594\n",
      "Epoch 75/100\n",
      "60/60 [==============================] - 0s 8ms/step - loss: 0.3793 - accuracy: 0.8619\n",
      "Epoch 76/100\n",
      "60/60 [==============================] - 0s 8ms/step - loss: 0.3782 - accuracy: 0.8620\n",
      "Epoch 77/100\n",
      "60/60 [==============================] - 0s 8ms/step - loss: 0.3781 - accuracy: 0.8603\n",
      "Epoch 78/100\n",
      "60/60 [==============================] - 0s 8ms/step - loss: 0.3755 - accuracy: 0.8609\n",
      "Epoch 79/100\n",
      "60/60 [==============================] - 0s 8ms/step - loss: 0.3755 - accuracy: 0.8617\n",
      "Epoch 80/100\n",
      "60/60 [==============================] - 0s 8ms/step - loss: 0.3764 - accuracy: 0.8625\n",
      "Epoch 81/100\n",
      "60/60 [==============================] - 0s 8ms/step - loss: 0.3810 - accuracy: 0.8601\n",
      "Epoch 82/100\n",
      "60/60 [==============================] - 0s 8ms/step - loss: 0.3754 - accuracy: 0.8618\n",
      "Epoch 83/100\n"
     ]
    },
    {
     "name": "stdout",
     "output_type": "stream",
     "text": [
      "60/60 [==============================] - 0s 8ms/step - loss: 0.3739 - accuracy: 0.8625\n",
      "Epoch 84/100\n",
      "60/60 [==============================] - 0s 8ms/step - loss: 0.3715 - accuracy: 0.8625\n",
      "Epoch 85/100\n",
      "60/60 [==============================] - 0s 8ms/step - loss: 0.3744 - accuracy: 0.8603\n",
      "Epoch 86/100\n",
      "60/60 [==============================] - 0s 8ms/step - loss: 0.3707 - accuracy: 0.8628\n",
      "Epoch 87/100\n",
      "60/60 [==============================] - 0s 8ms/step - loss: 0.3706 - accuracy: 0.8643\n",
      "Epoch 88/100\n",
      "60/60 [==============================] - 0s 8ms/step - loss: 0.3701 - accuracy: 0.8632\n",
      "Epoch 89/100\n",
      "60/60 [==============================] - 0s 8ms/step - loss: 0.3682 - accuracy: 0.8634\n",
      "Epoch 90/100\n",
      "60/60 [==============================] - 0s 8ms/step - loss: 0.3659 - accuracy: 0.8652\n",
      "Epoch 91/100\n",
      "60/60 [==============================] - 0s 8ms/step - loss: 0.3686 - accuracy: 0.8658\n",
      "Epoch 92/100\n",
      "60/60 [==============================] - 0s 8ms/step - loss: 0.3661 - accuracy: 0.8650\n",
      "Epoch 93/100\n",
      "60/60 [==============================] - 0s 8ms/step - loss: 0.3692 - accuracy: 0.8648\n",
      "Epoch 94/100\n",
      "60/60 [==============================] - 0s 8ms/step - loss: 0.3695 - accuracy: 0.8640\n",
      "Epoch 95/100\n",
      "60/60 [==============================] - 0s 8ms/step - loss: 0.3676 - accuracy: 0.8641\n",
      "Epoch 96/100\n",
      "60/60 [==============================] - 0s 8ms/step - loss: 0.3611 - accuracy: 0.8680\n",
      "Epoch 97/100\n",
      "60/60 [==============================] - 0s 8ms/step - loss: 0.3617 - accuracy: 0.8658\n",
      "Epoch 98/100\n",
      "60/60 [==============================] - 1s 8ms/step - loss: 0.3624 - accuracy: 0.8665\n",
      "Epoch 99/100\n",
      "60/60 [==============================] - 0s 8ms/step - loss: 0.3590 - accuracy: 0.8681\n",
      "Epoch 100/100\n",
      "60/60 [==============================] - 0s 8ms/step - loss: 0.3608 - accuracy: 0.8679\n"
     ]
    },
    {
     "data": {
      "text/plain": [
       "<tensorflow.python.keras.callbacks.History at 0x7fd6b9411c40>"
      ]
     },
     "execution_count": 24,
     "metadata": {},
     "output_type": "execute_result"
    }
   ],
   "source": [
    "model.fit(\n",
    "    X_train.reshape(60000, 784),\n",
    "    y_train,\n",
    "    epochs=100,\n",
    "    batch_size=1000)"
   ]
  },
  {
   "cell_type": "markdown",
   "metadata": {},
   "source": [
    "### Es gilt: Das Netz passt sich an die Daten an.\n",
    "\n",
    "- Testgenauigkeit nur minimal schlechter wie die Trainingsgenauigkeit: Das Modell darf vermutlich noch was komplexer sein \n",
    "\n",
    "- Testgenauigkeit sehr viel schlechter wie die Trainingsgenauigkeit: Das Modell ist zu komplex (das Modell hat sich zu stark an die Trainingsdaten angepasst)\n",
    "\n",
    "- Beides schlecht: Du brauchst mehr Daten!"
   ]
  },
  {
   "cell_type": "code",
   "execution_count": 25,
   "metadata": {},
   "outputs": [
    {
     "name": "stdout",
     "output_type": "stream",
     "text": [
      "1875/1875 [==============================] - 1s 615us/step - loss: 0.3492 - accuracy: 0.8727\n"
     ]
    },
    {
     "data": {
      "text/plain": [
       "[0.3492121994495392, 0.8727499842643738]"
      ]
     },
     "execution_count": 25,
     "metadata": {},
     "output_type": "execute_result"
    }
   ],
   "source": [
    "model.evaluate(X_train.reshape(-1, 784), y_train)"
   ]
  },
  {
   "cell_type": "code",
   "execution_count": 26,
   "metadata": {},
   "outputs": [
    {
     "name": "stdout",
     "output_type": "stream",
     "text": [
      "313/313 [==============================] - 0s 970us/step - loss: 0.4081 - accuracy: 0.8517\n"
     ]
    },
    {
     "data": {
      "text/plain": [
       "[0.4081214964389801, 0.8517000079154968]"
      ]
     },
     "execution_count": 26,
     "metadata": {},
     "output_type": "execute_result"
    }
   ],
   "source": [
    "model.evaluate(X_test.reshape(-1, 784), y_test)"
   ]
  },
  {
   "cell_type": "code",
   "execution_count": null,
   "metadata": {},
   "outputs": [],
   "source": []
  },
  {
   "cell_type": "code",
   "execution_count": null,
   "metadata": {},
   "outputs": [],
   "source": []
  }
 ],
 "metadata": {
  "kernelspec": {
   "display_name": "Python 3",
   "language": "python",
   "name": "python3"
  },
  "language_info": {
   "codemirror_mode": {
    "name": "ipython",
    "version": 3
   },
   "file_extension": ".py",
   "mimetype": "text/x-python",
   "name": "python",
   "nbconvert_exporter": "python",
   "pygments_lexer": "ipython3",
   "version": "3.8.3"
  }
 },
 "nbformat": 4,
 "nbformat_minor": 2
}
