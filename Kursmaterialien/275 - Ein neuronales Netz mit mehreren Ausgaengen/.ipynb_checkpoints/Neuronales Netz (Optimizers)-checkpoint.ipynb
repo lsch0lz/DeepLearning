{
 "cells": [
  {
   "cell_type": "code",
   "execution_count": 1,
   "metadata": {},
   "outputs": [],
   "source": [
    "# Vorstellung: MNIST-Daten!\n",
    "# http://yann.lecun.com/exdb/mnist/\n",
    "# FashionMNIST: https://github.com/zalandoresearch/fashion-mnist\n",
    "\n",
    "import gzip\n",
    "import numpy as np\n",
    "from keras.utils import to_categorical\n",
    "\n",
    "def open_images(filename):\n",
    "    with gzip.open(filename, \"rb\") as file:\n",
    "        data = file.read()\n",
    "        return np.frombuffer(data, dtype=np.uint8, offset=16)\\\n",
    "            .reshape(-1, 28, 28)\\\n",
    "            .astype(np.float32)\n",
    "\n",
    "\n",
    "def open_labels(filename):\n",
    "    with gzip.open(filename, \"rb\") as file:\n",
    "        data = file.read()\n",
    "        return np.frombuffer(data, dtype=np.uint8, offset=8)\n",
    "    \n",
    "X_train = open_images(\"../data/fashion/train-images-idx3-ubyte.gz\")\n",
    "y_train = open_labels(\"../data/fashion/train-labels-idx1-ubyte.gz\")\n",
    "\n",
    "X_test = open_images(\"../data/fashion/t10k-images-idx3-ubyte.gz\")\n",
    "y_test = open_labels(\"../data/fashion/t10k-labels-idx1-ubyte.gz\")\n",
    "\n",
    "y_train = to_categorical(y_train)\n",
    "y_test = to_categorical(y_test)"
   ]
  },
  {
   "cell_type": "markdown",
   "metadata": {},
   "source": [
    "### Neuronales Netz (mit Softmax)"
   ]
  },
  {
   "cell_type": "code",
   "execution_count": 2,
   "metadata": {},
   "outputs": [],
   "source": [
    "from keras.models import Sequential\n",
    "from keras.layers import Dense"
   ]
  },
  {
   "cell_type": "code",
   "execution_count": 18,
   "metadata": {},
   "outputs": [],
   "source": [
    "model = Sequential()\n",
    "\n",
    "model.add(Dense(100, activation=\"sigmoid\", input_shape=(784,)))\n",
    "model.add(Dense(10, activation=\"softmax\"))\n",
    "\n",
    "# rmsprop, adam\n",
    "model.compile(optimizer=\"adam\", loss=\"categorical_crossentropy\", metrics=[\"accuracy\"])"
   ]
  },
  {
   "cell_type": "code",
   "execution_count": 21,
   "metadata": {},
   "outputs": [
    {
     "name": "stdout",
     "output_type": "stream",
     "text": [
      "Epoch 1/100\n",
      "60/60 [==============================] - 0s 3ms/step - loss: 0.4685 - accuracy: 0.8341\n",
      "Epoch 2/100\n",
      "60/60 [==============================] - 0s 3ms/step - loss: 0.4763 - accuracy: 0.8346\n",
      "Epoch 3/100\n",
      "60/60 [==============================] - 0s 3ms/step - loss: 0.4709 - accuracy: 0.8344\n",
      "Epoch 4/100\n",
      "60/60 [==============================] - 0s 3ms/step - loss: 0.4656 - accuracy: 0.8351\n",
      "Epoch 5/100\n",
      "60/60 [==============================] - 0s 3ms/step - loss: 0.4624 - accuracy: 0.8366\n",
      "Epoch 6/100\n",
      "60/60 [==============================] - 0s 3ms/step - loss: 0.4574 - accuracy: 0.8376\n",
      "Epoch 7/100\n",
      "60/60 [==============================] - 0s 3ms/step - loss: 0.4633 - accuracy: 0.8348\n",
      "Epoch 8/100\n",
      "60/60 [==============================] - 0s 3ms/step - loss: 0.4555 - accuracy: 0.8385\n",
      "Epoch 9/100\n",
      "60/60 [==============================] - 0s 3ms/step - loss: 0.4653 - accuracy: 0.8343\n",
      "Epoch 10/100\n",
      "60/60 [==============================] - 0s 3ms/step - loss: 0.4654 - accuracy: 0.8333\n",
      "Epoch 11/100\n",
      "60/60 [==============================] - 0s 3ms/step - loss: 0.4491 - accuracy: 0.8408\n",
      "Epoch 12/100\n",
      "60/60 [==============================] - 0s 3ms/step - loss: 0.4432 - accuracy: 0.8419\n",
      "Epoch 13/100\n",
      "60/60 [==============================] - 0s 3ms/step - loss: 0.4481 - accuracy: 0.8374\n",
      "Epoch 14/100\n",
      "60/60 [==============================] - 0s 3ms/step - loss: 0.4536 - accuracy: 0.8393\n",
      "Epoch 15/100\n",
      "60/60 [==============================] - 0s 3ms/step - loss: 0.4529 - accuracy: 0.8404\n",
      "Epoch 16/100\n",
      "60/60 [==============================] - 0s 3ms/step - loss: 0.4559 - accuracy: 0.8371\n",
      "Epoch 17/100\n",
      "60/60 [==============================] - 0s 3ms/step - loss: 0.4407 - accuracy: 0.8436\n",
      "Epoch 18/100\n",
      "60/60 [==============================] - 0s 3ms/step - loss: 0.4373 - accuracy: 0.8430\n",
      "Epoch 19/100\n",
      "60/60 [==============================] - 0s 3ms/step - loss: 0.4371 - accuracy: 0.8423\n",
      "Epoch 20/100\n",
      "60/60 [==============================] - 0s 3ms/step - loss: 0.4360 - accuracy: 0.8438\n",
      "Epoch 21/100\n",
      "60/60 [==============================] - 0s 4ms/step - loss: 0.4358 - accuracy: 0.8458\n",
      "Epoch 22/100\n",
      "60/60 [==============================] - 0s 3ms/step - loss: 0.4464 - accuracy: 0.8393\n",
      "Epoch 23/100\n",
      "60/60 [==============================] - 0s 3ms/step - loss: 0.4323 - accuracy: 0.8437\n",
      "Epoch 24/100\n",
      "60/60 [==============================] - 0s 3ms/step - loss: 0.4362 - accuracy: 0.8417\n",
      "Epoch 25/100\n",
      "60/60 [==============================] - 0s 3ms/step - loss: 0.4379 - accuracy: 0.8430\n",
      "Epoch 26/100\n",
      "60/60 [==============================] - 0s 3ms/step - loss: 0.4458 - accuracy: 0.8382\n",
      "Epoch 27/100\n",
      "60/60 [==============================] - 0s 3ms/step - loss: 0.4471 - accuracy: 0.8377\n",
      "Epoch 28/100\n",
      "60/60 [==============================] - 0s 3ms/step - loss: 0.4444 - accuracy: 0.8418\n",
      "Epoch 29/100\n",
      "60/60 [==============================] - 0s 3ms/step - loss: 0.4349 - accuracy: 0.8458\n",
      "Epoch 30/100\n",
      "60/60 [==============================] - 0s 3ms/step - loss: 0.4482 - accuracy: 0.8400\n",
      "Epoch 31/100\n",
      "60/60 [==============================] - 0s 3ms/step - loss: 0.4375 - accuracy: 0.8419\n",
      "Epoch 32/100\n",
      "60/60 [==============================] - 0s 3ms/step - loss: 0.4281 - accuracy: 0.8442\n",
      "Epoch 33/100\n",
      "60/60 [==============================] - 0s 3ms/step - loss: 0.4308 - accuracy: 0.8452\n",
      "Epoch 34/100\n",
      "60/60 [==============================] - 0s 3ms/step - loss: 0.4354 - accuracy: 0.8447\n",
      "Epoch 35/100\n",
      "60/60 [==============================] - 0s 3ms/step - loss: 0.4363 - accuracy: 0.8448\n",
      "Epoch 36/100\n",
      "60/60 [==============================] - 0s 4ms/step - loss: 0.4408 - accuracy: 0.8424\n",
      "Epoch 37/100\n",
      "60/60 [==============================] - 0s 3ms/step - loss: 0.4330 - accuracy: 0.8442\n",
      "Epoch 38/100\n",
      "60/60 [==============================] - 0s 3ms/step - loss: 0.4351 - accuracy: 0.8424\n",
      "Epoch 39/100\n",
      "60/60 [==============================] - 0s 3ms/step - loss: 0.4295 - accuracy: 0.8450\n",
      "Epoch 40/100\n",
      "60/60 [==============================] - 0s 3ms/step - loss: 0.4355 - accuracy: 0.8424\n",
      "Epoch 41/100\n",
      "60/60 [==============================] - 0s 3ms/step - loss: 0.4256 - accuracy: 0.8475\n",
      "Epoch 42/100\n",
      "60/60 [==============================] - 0s 3ms/step - loss: 0.4246 - accuracy: 0.8489\n",
      "Epoch 43/100\n",
      "60/60 [==============================] - 0s 3ms/step - loss: 0.4214 - accuracy: 0.8501\n",
      "Epoch 44/100\n",
      "60/60 [==============================] - 0s 3ms/step - loss: 0.4356 - accuracy: 0.8446\n",
      "Epoch 45/100\n",
      "60/60 [==============================] - 0s 3ms/step - loss: 0.4218 - accuracy: 0.8488\n",
      "Epoch 46/100\n",
      "60/60 [==============================] - 0s 3ms/step - loss: 0.4263 - accuracy: 0.8476\n",
      "Epoch 47/100\n",
      "60/60 [==============================] - 0s 3ms/step - loss: 0.4222 - accuracy: 0.8460\n",
      "Epoch 48/100\n",
      "60/60 [==============================] - 0s 3ms/step - loss: 0.4134 - accuracy: 0.8492\n",
      "Epoch 49/100\n",
      "60/60 [==============================] - 0s 3ms/step - loss: 0.4121 - accuracy: 0.8538\n",
      "Epoch 50/100\n",
      "60/60 [==============================] - 0s 3ms/step - loss: 0.4294 - accuracy: 0.8461\n",
      "Epoch 51/100\n",
      "60/60 [==============================] - 0s 3ms/step - loss: 0.4195 - accuracy: 0.8480\n",
      "Epoch 52/100\n",
      "60/60 [==============================] - 0s 3ms/step - loss: 0.4248 - accuracy: 0.8491\n",
      "Epoch 53/100\n",
      "60/60 [==============================] - 0s 3ms/step - loss: 0.4137 - accuracy: 0.8513\n",
      "Epoch 54/100\n",
      "60/60 [==============================] - 0s 3ms/step - loss: 0.4153 - accuracy: 0.8511\n",
      "Epoch 55/100\n",
      "60/60 [==============================] - 0s 3ms/step - loss: 0.4295 - accuracy: 0.8453\n",
      "Epoch 56/100\n",
      "60/60 [==============================] - 0s 3ms/step - loss: 0.4364 - accuracy: 0.8425\n",
      "Epoch 57/100\n",
      "60/60 [==============================] - 0s 3ms/step - loss: 0.4258 - accuracy: 0.8487\n",
      "Epoch 58/100\n",
      "60/60 [==============================] - 0s 3ms/step - loss: 0.4217 - accuracy: 0.8483\n",
      "Epoch 59/100\n",
      "60/60 [==============================] - 0s 3ms/step - loss: 0.4182 - accuracy: 0.8513\n",
      "Epoch 60/100\n",
      "60/60 [==============================] - 0s 3ms/step - loss: 0.4154 - accuracy: 0.8502\n",
      "Epoch 61/100\n",
      "60/60 [==============================] - 0s 3ms/step - loss: 0.4149 - accuracy: 0.8497\n",
      "Epoch 62/100\n",
      "60/60 [==============================] - 0s 3ms/step - loss: 0.4212 - accuracy: 0.8448\n",
      "Epoch 63/100\n",
      "60/60 [==============================] - 0s 3ms/step - loss: 0.4140 - accuracy: 0.8523\n",
      "Epoch 64/100\n",
      "60/60 [==============================] - 0s 3ms/step - loss: 0.4132 - accuracy: 0.8528\n",
      "Epoch 65/100\n",
      "60/60 [==============================] - 0s 4ms/step - loss: 0.4182 - accuracy: 0.8508\n",
      "Epoch 66/100\n",
      "60/60 [==============================] - 0s 3ms/step - loss: 0.4221 - accuracy: 0.8503\n",
      "Epoch 67/100\n",
      "60/60 [==============================] - 0s 3ms/step - loss: 0.4234 - accuracy: 0.8464\n",
      "Epoch 68/100\n",
      "60/60 [==============================] - 0s 3ms/step - loss: 0.4354 - accuracy: 0.8344\n",
      "Epoch 69/100\n",
      "60/60 [==============================] - 0s 3ms/step - loss: 0.4185 - accuracy: 0.8481\n",
      "Epoch 70/100\n",
      "60/60 [==============================] - 0s 3ms/step - loss: 0.4136 - accuracy: 0.8528\n",
      "Epoch 71/100\n",
      "60/60 [==============================] - 0s 3ms/step - loss: 0.4125 - accuracy: 0.8535\n",
      "Epoch 72/100\n",
      "60/60 [==============================] - 0s 3ms/step - loss: 0.4147 - accuracy: 0.8511\n",
      "Epoch 73/100\n",
      "60/60 [==============================] - 0s 3ms/step - loss: 0.4116 - accuracy: 0.8531\n",
      "Epoch 74/100\n",
      "60/60 [==============================] - 0s 3ms/step - loss: 0.4058 - accuracy: 0.8573\n",
      "Epoch 75/100\n",
      "60/60 [==============================] - 0s 3ms/step - loss: 0.4072 - accuracy: 0.8554\n",
      "Epoch 76/100\n",
      "60/60 [==============================] - 0s 3ms/step - loss: 0.4253 - accuracy: 0.8457\n",
      "Epoch 77/100\n",
      "60/60 [==============================] - 0s 3ms/step - loss: 0.4182 - accuracy: 0.8494\n",
      "Epoch 78/100\n",
      "60/60 [==============================] - 0s 3ms/step - loss: 0.4120 - accuracy: 0.8515\n",
      "Epoch 79/100\n",
      "60/60 [==============================] - 0s 3ms/step - loss: 0.4322 - accuracy: 0.8469\n",
      "Epoch 80/100\n",
      "60/60 [==============================] - 0s 3ms/step - loss: 0.4253 - accuracy: 0.8478\n",
      "Epoch 81/100\n",
      "60/60 [==============================] - 0s 3ms/step - loss: 0.4199 - accuracy: 0.8473\n",
      "Epoch 82/100\n",
      "60/60 [==============================] - 0s 3ms/step - loss: 0.4217 - accuracy: 0.8508\n",
      "Epoch 83/100\n"
     ]
    },
    {
     "name": "stdout",
     "output_type": "stream",
     "text": [
      "60/60 [==============================] - 0s 3ms/step - loss: 0.4297 - accuracy: 0.8461\n",
      "Epoch 84/100\n",
      "60/60 [==============================] - 0s 3ms/step - loss: 0.4180 - accuracy: 0.8531\n",
      "Epoch 85/100\n",
      "60/60 [==============================] - 0s 3ms/step - loss: 0.4184 - accuracy: 0.8554\n",
      "Epoch 86/100\n",
      "60/60 [==============================] - 0s 3ms/step - loss: 0.4169 - accuracy: 0.8549\n",
      "Epoch 87/100\n",
      "60/60 [==============================] - 0s 3ms/step - loss: 0.4128 - accuracy: 0.8565\n",
      "Epoch 88/100\n",
      "60/60 [==============================] - 0s 3ms/step - loss: 0.4255 - accuracy: 0.8450\n",
      "Epoch 89/100\n",
      "60/60 [==============================] - 0s 3ms/step - loss: 0.4227 - accuracy: 0.8494\n",
      "Epoch 90/100\n",
      "60/60 [==============================] - 0s 3ms/step - loss: 0.4092 - accuracy: 0.8565\n",
      "Epoch 91/100\n",
      "60/60 [==============================] - 0s 3ms/step - loss: 0.4115 - accuracy: 0.8538\n",
      "Epoch 92/100\n",
      "60/60 [==============================] - 0s 3ms/step - loss: 0.4101 - accuracy: 0.8537\n",
      "Epoch 93/100\n",
      "60/60 [==============================] - 0s 3ms/step - loss: 0.4175 - accuracy: 0.8460\n",
      "Epoch 94/100\n",
      "60/60 [==============================] - 0s 3ms/step - loss: 0.4162 - accuracy: 0.8524\n",
      "Epoch 95/100\n",
      "60/60 [==============================] - 0s 3ms/step - loss: 0.4211 - accuracy: 0.8486: 0s - loss: 0.4276 - accuracy: 0.\n",
      "Epoch 96/100\n",
      "60/60 [==============================] - 0s 3ms/step - loss: 0.4080 - accuracy: 0.8540\n",
      "Epoch 97/100\n",
      "60/60 [==============================] - 0s 3ms/step - loss: 0.4174 - accuracy: 0.8496\n",
      "Epoch 98/100\n",
      "60/60 [==============================] - 0s 3ms/step - loss: 0.4189 - accuracy: 0.8525\n",
      "Epoch 99/100\n",
      "60/60 [==============================] - 0s 3ms/step - loss: 0.4125 - accuracy: 0.8528\n",
      "Epoch 100/100\n",
      "60/60 [==============================] - 0s 3ms/step - loss: 0.4038 - accuracy: 0.8557\n"
     ]
    },
    {
     "data": {
      "text/plain": [
       "<tensorflow.python.keras.callbacks.History at 0x7fca629b0e50>"
      ]
     },
     "execution_count": 21,
     "metadata": {},
     "output_type": "execute_result"
    }
   ],
   "source": [
    "model.fit(\n",
    "    X_train.reshape(60000, 784),\n",
    "    y_train,\n",
    "    epochs=10,\n",
    "    batch_size=1000)"
   ]
  },
  {
   "cell_type": "code",
   "execution_count": 20,
   "metadata": {},
   "outputs": [
    {
     "name": "stdout",
     "output_type": "stream",
     "text": [
      "313/313 [==============================] - 0s 630us/step - loss: 0.5054 - accuracy: 0.8199\n"
     ]
    },
    {
     "data": {
      "text/plain": [
       "[0.5054289102554321, 0.8198999762535095]"
      ]
     },
     "execution_count": 20,
     "metadata": {},
     "output_type": "execute_result"
    }
   ],
   "source": [
    "model.evaluate(X_test.reshape(-1, 784), y_test)"
   ]
  },
  {
   "cell_type": "code",
   "execution_count": 11,
   "metadata": {},
   "outputs": [],
   "source": [
    "predictions = model.predict(X_test.reshape(-1, 784))"
   ]
  },
  {
   "cell_type": "code",
   "execution_count": 7,
   "metadata": {},
   "outputs": [
    {
     "data": {
      "text/plain": [
       "array([1.25870844e-02, 4.21038317e-03, 5.74750483e-01, 6.95297867e-03,\n",
       "       1.10910095e-01, 2.93394807e-03, 2.84457475e-01, 1.59474395e-04,\n",
       "       2.17182492e-03, 8.66245187e-04], dtype=float32)"
      ]
     },
     "execution_count": 7,
     "metadata": {},
     "output_type": "execute_result"
    }
   ],
   "source": [
    "predictions[1]"
   ]
  },
  {
   "cell_type": "code",
   "execution_count": 8,
   "metadata": {},
   "outputs": [
    {
     "data": {
      "text/plain": [
       "1.0"
      ]
     },
     "execution_count": 8,
     "metadata": {},
     "output_type": "execute_result"
    }
   ],
   "source": [
    "np.sum(predictions[1])"
   ]
  },
  {
   "cell_type": "code",
   "execution_count": null,
   "metadata": {},
   "outputs": [],
   "source": []
  }
 ],
 "metadata": {
  "kernelspec": {
   "display_name": "Python 3",
   "language": "python",
   "name": "python3"
  },
  "language_info": {
   "codemirror_mode": {
    "name": "ipython",
    "version": 3
   },
   "file_extension": ".py",
   "mimetype": "text/x-python",
   "name": "python",
   "nbconvert_exporter": "python",
   "pygments_lexer": "ipython3",
   "version": "3.8.3"
  }
 },
 "nbformat": 4,
 "nbformat_minor": 2
}
