{
 "cells": [
  {
   "cell_type": "code",
   "execution_count": 1,
   "metadata": {},
   "outputs": [],
   "source": [
    "# Vorstellung: MNIST-Daten!\n",
    "# http://yann.lecun.com/exdb/mnist/\n",
    "# FashionMNIST: https://github.com/zalandoresearch/fashion-mnist\n",
    "\n",
    "import gzip\n",
    "import numpy as np\n",
    "from keras.utils import to_categorical\n",
    "\n",
    "def open_images(filename):\n",
    "    with gzip.open(filename, \"rb\") as file:\n",
    "        data = file.read()\n",
    "        return np.frombuffer(data, dtype=np.uint8, offset=16)\\\n",
    "            .reshape(-1, 28, 28)\\\n",
    "            .astype(np.float32)\n",
    "\n",
    "\n",
    "def open_labels(filename):\n",
    "    with gzip.open(filename, \"rb\") as file:\n",
    "        data = file.read()\n",
    "        return np.frombuffer(data, dtype=np.uint8, offset=8)\n",
    "    \n",
    "X_train = open_images(\"../data/fashion/train-images-idx3-ubyte.gz\")\n",
    "y_train = open_labels(\"../data/fashion/train-labels-idx1-ubyte.gz\")\n",
    "\n",
    "X_test = open_images(\"../data/fashion/t10k-images-idx3-ubyte.gz\")\n",
    "y_test = open_labels(\"../data/fashion/t10k-labels-idx1-ubyte.gz\")\n",
    "\n",
    "y_train = to_categorical(y_train)\n",
    "y_test = to_categorical(y_test)"
   ]
  },
  {
   "cell_type": "code",
   "execution_count": 2,
   "metadata": {},
   "outputs": [],
   "source": [
    "from keras.models import Sequential\n",
    "from keras.layers import Dense"
   ]
  },
  {
   "cell_type": "code",
   "execution_count": 3,
   "metadata": {},
   "outputs": [],
   "source": [
    "model = Sequential()\n",
    "\n",
    "model.add(Dense(100, activation=\"sigmoid\", input_shape=(784,)))\n",
    "model.add(Dense(10, activation=\"sigmoid\"))\n",
    "\n",
    "model.compile(optimizer=\"sgd\", loss=\"categorical_crossentropy\", metrics=[\"accuracy\"])"
   ]
  },
  {
   "cell_type": "code",
   "execution_count": 4,
   "metadata": {},
   "outputs": [
    {
     "data": {
      "text/plain": [
       "array([[0., 0., 0., ..., 0., 0., 0.],\n",
       "       [0., 0., 0., ..., 0., 0., 0.],\n",
       "       [0., 0., 0., ..., 0., 0., 0.],\n",
       "       ...,\n",
       "       [0., 0., 0., ..., 0., 0., 0.],\n",
       "       [0., 0., 0., ..., 0., 0., 0.],\n",
       "       [0., 0., 0., ..., 0., 0., 0.]], dtype=float32)"
      ]
     },
     "execution_count": 4,
     "metadata": {},
     "output_type": "execute_result"
    }
   ],
   "source": [
    "X_train.reshape(60000, 784)"
   ]
  },
  {
   "cell_type": "code",
   "execution_count": 13,
   "metadata": {},
   "outputs": [
    {
     "name": "stdout",
     "output_type": "stream",
     "text": [
      "Epoch 1/100\n",
      "60/60 [==============================] - 0s 3ms/step - loss: 0.7993 - accuracy: 0.7782\n",
      "Epoch 2/100\n",
      "60/60 [==============================] - 0s 3ms/step - loss: 0.7692 - accuracy: 0.7842\n",
      "Epoch 3/100\n",
      "60/60 [==============================] - 0s 3ms/step - loss: 0.7430 - accuracy: 0.7890\n",
      "Epoch 4/100\n",
      "60/60 [==============================] - 0s 3ms/step - loss: 0.7203 - accuracy: 0.7938\n",
      "Epoch 5/100\n",
      "60/60 [==============================] - 0s 3ms/step - loss: 0.6996 - accuracy: 0.7981\n",
      "Epoch 6/100\n",
      "60/60 [==============================] - 0s 3ms/step - loss: 0.6815 - accuracy: 0.8018\n",
      "Epoch 7/100\n",
      "60/60 [==============================] - 0s 3ms/step - loss: 0.6653 - accuracy: 0.8052\n",
      "Epoch 8/100\n",
      "60/60 [==============================] - 0s 3ms/step - loss: 0.6506 - accuracy: 0.8081\n",
      "Epoch 9/100\n",
      "60/60 [==============================] - 0s 3ms/step - loss: 0.6370 - accuracy: 0.8103\n",
      "Epoch 10/100\n",
      "60/60 [==============================] - 0s 3ms/step - loss: 0.6252 - accuracy: 0.8124\n",
      "Epoch 11/100\n",
      "60/60 [==============================] - 0s 3ms/step - loss: 0.6142 - accuracy: 0.8151\n",
      "Epoch 12/100\n",
      "60/60 [==============================] - 0s 3ms/step - loss: 0.6038 - accuracy: 0.8172\n",
      "Epoch 13/100\n",
      "60/60 [==============================] - 0s 3ms/step - loss: 0.5941 - accuracy: 0.8186\n",
      "Epoch 14/100\n",
      "60/60 [==============================] - 0s 3ms/step - loss: 0.5849 - accuracy: 0.8202\n",
      "Epoch 15/100\n",
      "60/60 [==============================] - 0s 3ms/step - loss: 0.5761 - accuracy: 0.8231\n",
      "Epoch 16/100\n",
      "60/60 [==============================] - 0s 3ms/step - loss: 0.5688 - accuracy: 0.8228\n",
      "Epoch 17/100\n",
      "60/60 [==============================] - 0s 4ms/step - loss: 0.5615 - accuracy: 0.8249\n",
      "Epoch 18/100\n",
      "60/60 [==============================] - 0s 3ms/step - loss: 0.5545 - accuracy: 0.8269\n",
      "Epoch 19/100\n",
      "60/60 [==============================] - 0s 3ms/step - loss: 0.5485 - accuracy: 0.8281\n",
      "Epoch 20/100\n",
      "60/60 [==============================] - 0s 3ms/step - loss: 0.5420 - accuracy: 0.8291\n",
      "Epoch 21/100\n",
      "60/60 [==============================] - 0s 3ms/step - loss: 0.5373 - accuracy: 0.8299\n",
      "Epoch 22/100\n",
      "60/60 [==============================] - 0s 3ms/step - loss: 0.5315 - accuracy: 0.8310\n",
      "Epoch 23/100\n",
      "60/60 [==============================] - 0s 3ms/step - loss: 0.5260 - accuracy: 0.8326\n",
      "Epoch 24/100\n",
      "60/60 [==============================] - 0s 3ms/step - loss: 0.5212 - accuracy: 0.8332\n",
      "Epoch 25/100\n",
      "60/60 [==============================] - 0s 3ms/step - loss: 0.5171 - accuracy: 0.8329\n",
      "Epoch 26/100\n",
      "60/60 [==============================] - 0s 3ms/step - loss: 0.5129 - accuracy: 0.8340\n",
      "Epoch 27/100\n",
      "60/60 [==============================] - 0s 3ms/step - loss: 0.5079 - accuracy: 0.8356\n",
      "Epoch 28/100\n",
      "60/60 [==============================] - 0s 3ms/step - loss: 0.5051 - accuracy: 0.8366\n",
      "Epoch 29/100\n",
      "60/60 [==============================] - 0s 3ms/step - loss: 0.5006 - accuracy: 0.8378\n",
      "Epoch 30/100\n",
      "60/60 [==============================] - 0s 3ms/step - loss: 0.4991 - accuracy: 0.8372\n",
      "Epoch 31/100\n",
      "60/60 [==============================] - 0s 3ms/step - loss: 0.4922 - accuracy: 0.8404\n",
      "Epoch 32/100\n",
      "60/60 [==============================] - 0s 4ms/step - loss: 0.4887 - accuracy: 0.8401\n",
      "Epoch 33/100\n",
      "60/60 [==============================] - 0s 4ms/step - loss: 0.4869 - accuracy: 0.8401\n",
      "Epoch 34/100\n",
      "60/60 [==============================] - 0s 4ms/step - loss: 0.4837 - accuracy: 0.8419\n",
      "Epoch 35/100\n",
      "60/60 [==============================] - 0s 4ms/step - loss: 0.4795 - accuracy: 0.8426\n",
      "Epoch 36/100\n",
      "60/60 [==============================] - 0s 4ms/step - loss: 0.4751 - accuracy: 0.8439\n",
      "Epoch 37/100\n",
      "60/60 [==============================] - 0s 3ms/step - loss: 0.4737 - accuracy: 0.8443\n",
      "Epoch 38/100\n",
      "60/60 [==============================] - 0s 3ms/step - loss: 0.4706 - accuracy: 0.8459\n",
      "Epoch 39/100\n",
      "60/60 [==============================] - 0s 4ms/step - loss: 0.4682 - accuracy: 0.8458\n",
      "Epoch 40/100\n",
      "60/60 [==============================] - 0s 4ms/step - loss: 0.4658 - accuracy: 0.8464\n",
      "Epoch 41/100\n",
      "60/60 [==============================] - 0s 3ms/step - loss: 0.4629 - accuracy: 0.8478\n",
      "Epoch 42/100\n",
      "60/60 [==============================] - 0s 4ms/step - loss: 0.4610 - accuracy: 0.8472\n",
      "Epoch 43/100\n",
      "60/60 [==============================] - 0s 4ms/step - loss: 0.4568 - accuracy: 0.8490\n",
      "Epoch 44/100\n",
      "60/60 [==============================] - 0s 3ms/step - loss: 0.4552 - accuracy: 0.8493\n",
      "Epoch 45/100\n",
      "60/60 [==============================] - 0s 4ms/step - loss: 0.4523 - accuracy: 0.8502\n",
      "Epoch 46/100\n",
      "60/60 [==============================] - 0s 3ms/step - loss: 0.4505 - accuracy: 0.8512\n",
      "Epoch 47/100\n",
      "60/60 [==============================] - 0s 3ms/step - loss: 0.4494 - accuracy: 0.8513\n",
      "Epoch 48/100\n",
      "60/60 [==============================] - 0s 3ms/step - loss: 0.4468 - accuracy: 0.8514\n",
      "Epoch 49/100\n",
      "60/60 [==============================] - 0s 3ms/step - loss: 0.4435 - accuracy: 0.8533\n",
      "Epoch 50/100\n",
      "60/60 [==============================] - 0s 3ms/step - loss: 0.4423 - accuracy: 0.8538\n",
      "Epoch 51/100\n",
      "60/60 [==============================] - 0s 3ms/step - loss: 0.4404 - accuracy: 0.8546\n",
      "Epoch 52/100\n",
      "60/60 [==============================] - 0s 3ms/step - loss: 0.4394 - accuracy: 0.8531\n",
      "Epoch 53/100\n",
      "60/60 [==============================] - 0s 3ms/step - loss: 0.4368 - accuracy: 0.8551\n",
      "Epoch 54/100\n",
      "60/60 [==============================] - 0s 3ms/step - loss: 0.4345 - accuracy: 0.8552\n",
      "Epoch 55/100\n",
      "60/60 [==============================] - 0s 3ms/step - loss: 0.4320 - accuracy: 0.8563\n",
      "Epoch 56/100\n",
      "60/60 [==============================] - 0s 3ms/step - loss: 0.4302 - accuracy: 0.8579\n",
      "Epoch 57/100\n",
      "60/60 [==============================] - 0s 3ms/step - loss: 0.4286 - accuracy: 0.8568\n",
      "Epoch 58/100\n",
      "60/60 [==============================] - 0s 3ms/step - loss: 0.4270 - accuracy: 0.8572\n",
      "Epoch 59/100\n",
      "60/60 [==============================] - 0s 3ms/step - loss: 0.4268 - accuracy: 0.8571\n",
      "Epoch 60/100\n",
      "60/60 [==============================] - 0s 3ms/step - loss: 0.4259 - accuracy: 0.8579\n",
      "Epoch 61/100\n",
      "60/60 [==============================] - 0s 3ms/step - loss: 0.4229 - accuracy: 0.8580\n",
      "Epoch 62/100\n",
      "60/60 [==============================] - 0s 3ms/step - loss: 0.4236 - accuracy: 0.8586\n",
      "Epoch 63/100\n",
      "60/60 [==============================] - 0s 3ms/step - loss: 0.4214 - accuracy: 0.8590\n",
      "Epoch 64/100\n",
      "60/60 [==============================] - 0s 3ms/step - loss: 0.4166 - accuracy: 0.8609\n",
      "Epoch 65/100\n",
      "60/60 [==============================] - 0s 4ms/step - loss: 0.4163 - accuracy: 0.8610\n",
      "Epoch 66/100\n",
      "60/60 [==============================] - 0s 3ms/step - loss: 0.4164 - accuracy: 0.8609\n",
      "Epoch 67/100\n",
      "60/60 [==============================] - 0s 3ms/step - loss: 0.4155 - accuracy: 0.8609\n",
      "Epoch 68/100\n",
      "60/60 [==============================] - 0s 3ms/step - loss: 0.4127 - accuracy: 0.8612\n",
      "Epoch 69/100\n",
      "60/60 [==============================] - 0s 3ms/step - loss: 0.4113 - accuracy: 0.8620\n",
      "Epoch 70/100\n",
      "60/60 [==============================] - 0s 3ms/step - loss: 0.4110 - accuracy: 0.8622\n",
      "Epoch 71/100\n",
      "60/60 [==============================] - 0s 3ms/step - loss: 0.4106 - accuracy: 0.8622\n",
      "Epoch 72/100\n",
      "60/60 [==============================] - 0s 3ms/step - loss: 0.4084 - accuracy: 0.8622\n",
      "Epoch 73/100\n",
      "60/60 [==============================] - 0s 3ms/step - loss: 0.4047 - accuracy: 0.8653\n",
      "Epoch 74/100\n",
      "60/60 [==============================] - 0s 3ms/step - loss: 0.4050 - accuracy: 0.8646\n",
      "Epoch 75/100\n",
      "60/60 [==============================] - 0s 3ms/step - loss: 0.4030 - accuracy: 0.8647\n",
      "Epoch 76/100\n",
      "60/60 [==============================] - 0s 3ms/step - loss: 0.4018 - accuracy: 0.8650\n",
      "Epoch 77/100\n",
      "60/60 [==============================] - 0s 3ms/step - loss: 0.4012 - accuracy: 0.8649\n",
      "Epoch 78/100\n",
      "60/60 [==============================] - 0s 3ms/step - loss: 0.4006 - accuracy: 0.8658\n",
      "Epoch 79/100\n",
      "60/60 [==============================] - 0s 3ms/step - loss: 0.3988 - accuracy: 0.8663\n",
      "Epoch 80/100\n",
      "60/60 [==============================] - 0s 3ms/step - loss: 0.3968 - accuracy: 0.8664\n",
      "Epoch 81/100\n",
      "60/60 [==============================] - 0s 3ms/step - loss: 0.3975 - accuracy: 0.8661\n",
      "Epoch 82/100\n",
      "60/60 [==============================] - 0s 3ms/step - loss: 0.3954 - accuracy: 0.8660\n",
      "Epoch 83/100\n"
     ]
    },
    {
     "name": "stdout",
     "output_type": "stream",
     "text": [
      "60/60 [==============================] - 0s 3ms/step - loss: 0.3923 - accuracy: 0.8687\n",
      "Epoch 84/100\n",
      "60/60 [==============================] - 0s 3ms/step - loss: 0.3920 - accuracy: 0.8689\n",
      "Epoch 85/100\n",
      "60/60 [==============================] - 0s 3ms/step - loss: 0.3923 - accuracy: 0.8678\n",
      "Epoch 86/100\n",
      "60/60 [==============================] - 0s 3ms/step - loss: 0.3904 - accuracy: 0.8686\n",
      "Epoch 87/100\n",
      "60/60 [==============================] - 0s 3ms/step - loss: 0.3872 - accuracy: 0.8700\n",
      "Epoch 88/100\n",
      "60/60 [==============================] - 0s 3ms/step - loss: 0.3910 - accuracy: 0.8676\n",
      "Epoch 89/100\n",
      "60/60 [==============================] - 0s 3ms/step - loss: 0.3896 - accuracy: 0.8683\n",
      "Epoch 90/100\n",
      "60/60 [==============================] - 0s 3ms/step - loss: 0.3863 - accuracy: 0.8690\n",
      "Epoch 91/100\n",
      "60/60 [==============================] - 0s 3ms/step - loss: 0.3855 - accuracy: 0.8702\n",
      "Epoch 92/100\n",
      "60/60 [==============================] - 0s 3ms/step - loss: 0.3853 - accuracy: 0.8702\n",
      "Epoch 93/100\n",
      "60/60 [==============================] - 0s 3ms/step - loss: 0.3837 - accuracy: 0.8706\n",
      "Epoch 94/100\n",
      "60/60 [==============================] - 0s 3ms/step - loss: 0.3819 - accuracy: 0.8720\n",
      "Epoch 95/100\n",
      "60/60 [==============================] - 0s 3ms/step - loss: 0.3815 - accuracy: 0.8709\n",
      "Epoch 96/100\n",
      "60/60 [==============================] - 0s 3ms/step - loss: 0.3792 - accuracy: 0.8723\n",
      "Epoch 97/100\n",
      "60/60 [==============================] - 0s 3ms/step - loss: 0.3794 - accuracy: 0.8719\n",
      "Epoch 98/100\n",
      "60/60 [==============================] - 0s 3ms/step - loss: 0.3798 - accuracy: 0.8726\n",
      "Epoch 99/100\n",
      "60/60 [==============================] - 0s 3ms/step - loss: 0.3785 - accuracy: 0.8739\n",
      "Epoch 100/100\n",
      "60/60 [==============================] - 0s 3ms/step - loss: 0.3774 - accuracy: 0.8731\n"
     ]
    },
    {
     "data": {
      "text/plain": [
       "<tensorflow.python.keras.callbacks.History at 0x7fe9a64fb550>"
      ]
     },
     "execution_count": 13,
     "metadata": {},
     "output_type": "execute_result"
    }
   ],
   "source": [
    "model.fit(\n",
    "    X_train.reshape(60000, 784),\n",
    "    y_train,\n",
    "    epochs=100,\n",
    "    batch_size=1000)"
   ]
  },
  {
   "cell_type": "code",
   "execution_count": 14,
   "metadata": {},
   "outputs": [
    {
     "name": "stdout",
     "output_type": "stream",
     "text": [
      "313/313 [==============================] - 0s 553us/step - loss: 0.4545 - accuracy: 0.8414\n"
     ]
    },
    {
     "data": {
      "text/plain": [
       "[0.4545433223247528, 0.8414000272750854]"
      ]
     },
     "execution_count": 14,
     "metadata": {},
     "output_type": "execute_result"
    }
   ],
   "source": [
    "model.evaluate(X_test.reshape(-1, 784), y_test)"
   ]
  },
  {
   "cell_type": "code",
   "execution_count": 15,
   "metadata": {},
   "outputs": [
    {
     "data": {
      "text/plain": [
       "array([[2.1910667e-04, 1.4793873e-04, 1.4129281e-04, ..., 4.8643947e-03,\n",
       "        6.6852570e-04, 9.8323196e-02],\n",
       "       [6.0531497e-04, 1.1075927e-04, 2.6070160e-01, ..., 6.9157737e-05,\n",
       "        2.6491284e-04, 5.5506403e-05],\n",
       "       [1.2179017e-03, 3.2371408e-01, 5.4475665e-04, ..., 2.6962161e-04,\n",
       "        1.4403462e-04, 1.2922287e-04],\n",
       "       ...,\n",
       "       [2.6087165e-03, 4.5746143e-05, 1.6096234e-04, ..., 1.7464161e-04,\n",
       "        7.2245181e-02, 1.7866492e-04],\n",
       "       [2.1132827e-04, 2.4043721e-01, 2.4840236e-04, ..., 1.4606416e-03,\n",
       "        2.0414591e-04, 4.8521161e-04],\n",
       "       [9.0252470e-05, 8.1872691e-05, 1.6027689e-04, ..., 5.0885379e-03,\n",
       "        5.1015615e-04, 6.4530969e-04]], dtype=float32)"
      ]
     },
     "execution_count": 15,
     "metadata": {},
     "output_type": "execute_result"
    }
   ],
   "source": [
    "model.predict(X_test.reshape(-1, 784))"
   ]
  },
  {
   "cell_type": "code",
   "execution_count": 16,
   "metadata": {},
   "outputs": [
    {
     "name": "stdout",
     "output_type": "stream",
     "text": [
      "[0. 0. 1. 0. 0. 0. 0. 0. 0. 0.]\n"
     ]
    },
    {
     "data": {
      "image/png": "[encoded data removed]",
      "text/plain": [
       "<Figure size 432x288 with 1 Axes>"
      ]
     },
     "metadata": {
      "needs_background": "light"
     },
     "output_type": "display_data"
    }
   ],
   "source": [
    "%matplotlib inline\n",
    "\n",
    "import matplotlib.pyplot as plt\n",
    "\n",
    "print(y_test[1])\n",
    "\n",
    "plt.imshow(X_test[1], cmap=\"gray_r\")\n",
    "plt.show()"
   ]
  },
  {
   "cell_type": "code",
   "execution_count": 17,
   "metadata": {},
   "outputs": [],
   "source": [
    "pred = model.predict(X_test.reshape(-1, 784))"
   ]
  },
  {
   "cell_type": "code",
   "execution_count": 18,
   "metadata": {},
   "outputs": [
    {
     "data": {
      "text/plain": [
       "2"
      ]
     },
     "execution_count": 18,
     "metadata": {},
     "output_type": "execute_result"
    }
   ],
   "source": [
    "import numpy as np\n",
    "\n",
    "np.argmax(pred[1])"
   ]
  },
  {
   "cell_type": "code",
   "execution_count": 19,
   "metadata": {},
   "outputs": [
    {
     "data": {
      "text/plain": [
       "array([9, 2, 1, ..., 8, 1, 5])"
      ]
     },
     "execution_count": 19,
     "metadata": {},
     "output_type": "execute_result"
    }
   ],
   "source": [
    "np.argmax(pred, axis=1)"
   ]
  },
  {
   "cell_type": "code",
   "execution_count": 20,
   "metadata": {},
   "outputs": [
    {
     "data": {
      "text/html": [
       "<div>\n",
       "<style scoped>\n",
       "    .dataframe tbody tr th:only-of-type {\n",
       "        vertical-align: middle;\n",
       "    }\n",
       "\n",
       "    .dataframe tbody tr th {\n",
       "        vertical-align: top;\n",
       "    }\n",
       "\n",
       "    .dataframe thead th {\n",
       "        text-align: right;\n",
       "    }\n",
       "</style>\n",
       "<table border=\"1\" class=\"dataframe\">\n",
       "  <thead>\n",
       "    <tr style=\"text-align: right;\">\n",
       "      <th>pred</th>\n",
       "      <th>0</th>\n",
       "      <th>1</th>\n",
       "      <th>2</th>\n",
       "      <th>3</th>\n",
       "      <th>4</th>\n",
       "      <th>5</th>\n",
       "      <th>6</th>\n",
       "      <th>7</th>\n",
       "      <th>8</th>\n",
       "      <th>9</th>\n",
       "    </tr>\n",
       "    <tr>\n",
       "      <th>actual</th>\n",
       "      <th></th>\n",
       "      <th></th>\n",
       "      <th></th>\n",
       "      <th></th>\n",
       "      <th></th>\n",
       "      <th></th>\n",
       "      <th></th>\n",
       "      <th></th>\n",
       "      <th></th>\n",
       "      <th></th>\n",
       "    </tr>\n",
       "  </thead>\n",
       "  <tbody>\n",
       "    <tr>\n",
       "      <th>0</th>\n",
       "      <td>835</td>\n",
       "      <td>3</td>\n",
       "      <td>12</td>\n",
       "      <td>38</td>\n",
       "      <td>4</td>\n",
       "      <td>3</td>\n",
       "      <td>88</td>\n",
       "      <td>2</td>\n",
       "      <td>15</td>\n",
       "      <td>0</td>\n",
       "    </tr>\n",
       "    <tr>\n",
       "      <th>1</th>\n",
       "      <td>4</td>\n",
       "      <td>952</td>\n",
       "      <td>8</td>\n",
       "      <td>26</td>\n",
       "      <td>2</td>\n",
       "      <td>0</td>\n",
       "      <td>6</td>\n",
       "      <td>0</td>\n",
       "      <td>2</td>\n",
       "      <td>0</td>\n",
       "    </tr>\n",
       "    <tr>\n",
       "      <th>2</th>\n",
       "      <td>18</td>\n",
       "      <td>1</td>\n",
       "      <td>747</td>\n",
       "      <td>12</td>\n",
       "      <td>115</td>\n",
       "      <td>1</td>\n",
       "      <td>94</td>\n",
       "      <td>0</td>\n",
       "      <td>12</td>\n",
       "      <td>0</td>\n",
       "    </tr>\n",
       "    <tr>\n",
       "      <th>3</th>\n",
       "      <td>37</td>\n",
       "      <td>15</td>\n",
       "      <td>15</td>\n",
       "      <td>854</td>\n",
       "      <td>34</td>\n",
       "      <td>1</td>\n",
       "      <td>38</td>\n",
       "      <td>0</td>\n",
       "      <td>6</td>\n",
       "      <td>0</td>\n",
       "    </tr>\n",
       "    <tr>\n",
       "      <th>4</th>\n",
       "      <td>1</td>\n",
       "      <td>1</td>\n",
       "      <td>110</td>\n",
       "      <td>36</td>\n",
       "      <td>736</td>\n",
       "      <td>0</td>\n",
       "      <td>110</td>\n",
       "      <td>0</td>\n",
       "      <td>6</td>\n",
       "      <td>0</td>\n",
       "    </tr>\n",
       "    <tr>\n",
       "      <th>5</th>\n",
       "      <td>1</td>\n",
       "      <td>0</td>\n",
       "      <td>0</td>\n",
       "      <td>1</td>\n",
       "      <td>0</td>\n",
       "      <td>904</td>\n",
       "      <td>0</td>\n",
       "      <td>44</td>\n",
       "      <td>5</td>\n",
       "      <td>45</td>\n",
       "    </tr>\n",
       "    <tr>\n",
       "      <th>6</th>\n",
       "      <td>172</td>\n",
       "      <td>4</td>\n",
       "      <td>105</td>\n",
       "      <td>34</td>\n",
       "      <td>79</td>\n",
       "      <td>1</td>\n",
       "      <td>579</td>\n",
       "      <td>0</td>\n",
       "      <td>26</td>\n",
       "      <td>0</td>\n",
       "    </tr>\n",
       "    <tr>\n",
       "      <th>7</th>\n",
       "      <td>0</td>\n",
       "      <td>0</td>\n",
       "      <td>0</td>\n",
       "      <td>0</td>\n",
       "      <td>0</td>\n",
       "      <td>36</td>\n",
       "      <td>0</td>\n",
       "      <td>917</td>\n",
       "      <td>0</td>\n",
       "      <td>47</td>\n",
       "    </tr>\n",
       "    <tr>\n",
       "      <th>8</th>\n",
       "      <td>1</td>\n",
       "      <td>1</td>\n",
       "      <td>13</td>\n",
       "      <td>7</td>\n",
       "      <td>3</td>\n",
       "      <td>4</td>\n",
       "      <td>17</td>\n",
       "      <td>5</td>\n",
       "      <td>948</td>\n",
       "      <td>1</td>\n",
       "    </tr>\n",
       "    <tr>\n",
       "      <th>9</th>\n",
       "      <td>0</td>\n",
       "      <td>0</td>\n",
       "      <td>0</td>\n",
       "      <td>0</td>\n",
       "      <td>0</td>\n",
       "      <td>12</td>\n",
       "      <td>1</td>\n",
       "      <td>44</td>\n",
       "      <td>1</td>\n",
       "      <td>942</td>\n",
       "    </tr>\n",
       "  </tbody>\n",
       "</table>\n",
       "</div>"
      ],
      "text/plain": [
       "pred      0    1    2    3    4    5    6    7    8    9\n",
       "actual                                                  \n",
       "0       835    3   12   38    4    3   88    2   15    0\n",
       "1         4  952    8   26    2    0    6    0    2    0\n",
       "2        18    1  747   12  115    1   94    0   12    0\n",
       "3        37   15   15  854   34    1   38    0    6    0\n",
       "4         1    1  110   36  736    0  110    0    6    0\n",
       "5         1    0    0    1    0  904    0   44    5   45\n",
       "6       172    4  105   34   79    1  579    0   26    0\n",
       "7         0    0    0    0    0   36    0  917    0   47\n",
       "8         1    1   13    7    3    4   17    5  948    1\n",
       "9         0    0    0    0    0   12    1   44    1  942"
      ]
     },
     "execution_count": 20,
     "metadata": {},
     "output_type": "execute_result"
    }
   ],
   "source": [
    "import pandas as pd\n",
    "\n",
    "ytrue = pd.Series(np.argmax(y_test, axis = 1), name = 'actual')\n",
    "ypred = pd.Series(np.argmax(pred, axis = 1), name = 'pred')\n",
    "\n",
    "pd.crosstab(ytrue, ypred)"
   ]
  },
  {
   "cell_type": "code",
   "execution_count": null,
   "metadata": {},
   "outputs": [],
   "source": []
  },
  {
   "cell_type": "code",
   "execution_count": null,
   "metadata": {},
   "outputs": [],
   "source": []
  },
  {
   "cell_type": "code",
   "execution_count": null,
   "metadata": {},
   "outputs": [],
   "source": []
  }
 ],
 "metadata": {
  "kernelspec": {
   "display_name": "Python 3",
   "language": "python",
   "name": "python3"
  },
  "language_info": {
   "codemirror_mode": {
    "name": "ipython",
    "version": 3
   },
   "file_extension": ".py",
   "mimetype": "text/x-python",
   "name": "python",
   "nbconvert_exporter": "python",
   "pygments_lexer": "ipython3",
   "version": "3.8.3"
  }
 },
 "nbformat": 4,
 "nbformat_minor": 2
}
