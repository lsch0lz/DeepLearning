{
 "cells": [
  {
   "cell_type": "code",
   "execution_count": 2,
   "metadata": {},
   "outputs": [],
   "source": [
    "# Vorstellung: MNIST-Daten!\n",
    "# http://yann.lecun.com/exdb/mnist/\n",
    "# FashionMNIST: https://github.com/zalandoresearch/fashion-mnist\n",
    "\n",
    "import gzip\n",
    "import numpy as np\n",
    "\n",
    "def open_images(filename):\n",
    "    with gzip.open(filename, \"rb\") as file:\n",
    "        data = file.read()\n",
    "        return np.frombuffer(data, dtype=np.uint8, offset=16)\\\n",
    "            .reshape(-1, 28, 28)\\\n",
    "            .astype(np.float32)\n",
    "\n",
    "\n",
    "def open_labels(filename):\n",
    "    with gzip.open(filename, \"rb\") as file:\n",
    "        data = file.read()\n",
    "        return np.frombuffer(data, dtype=np.uint8, offset=8)\n",
    "    \n",
    "X_train = open_images(\"../data/fashion/train-images-idx3-ubyte.gz\")\n",
    "y_train = open_labels(\"../data/fashion/train-labels-idx1-ubyte.gz\")\n",
    "\n",
    "y_train = y_train == 0"
   ]
  },
  {
   "cell_type": "code",
   "execution_count": 5,
   "metadata": {},
   "outputs": [],
   "source": [
    "from keras.models import Sequential\n",
    "from keras.layers import Dense"
   ]
  },
  {
   "cell_type": "code",
   "execution_count": 8,
   "metadata": {},
   "outputs": [],
   "source": [
    "model = Sequential()\n",
    "\n",
    "#hidden layer\n",
    "model.add(Dense(100, activation=\"sigmoid\", input_shape=(784,)))\n",
    "\n",
    "#output layer\n",
    "model.add(Dense(1, activation=\"sigmoid\"))\n",
    "\n",
    "#kompilieren des Modells -> effizienter auf der GPU\n",
    "#optimizer -> nach welchem Verfahren werden die Gewichte aktualisiert?\n",
    "#sgd = stochastic gradient \n",
    "model.compile(optimizer=\"sgd\", loss=\"binary_crossentropy\")"
   ]
  },
  {
   "cell_type": "code",
   "execution_count": 14,
   "metadata": {},
   "outputs": [
    {
     "data": {
      "text/plain": [
       "array([[0., 0., 0., ..., 0., 0., 0.],\n",
       "       [0., 0., 0., ..., 0., 0., 0.],\n",
       "       [0., 0., 0., ..., 0., 0., 0.],\n",
       "       ...,\n",
       "       [0., 0., 0., ..., 0., 0., 0.],\n",
       "       [0., 0., 0., ..., 0., 0., 0.],\n",
       "       [0., 0., 0., ..., 0., 0., 0.]], dtype=float32)"
      ]
     },
     "execution_count": 14,
     "metadata": {},
     "output_type": "execute_result"
    }
   ],
   "source": [
    "X_train.reshape(60000, 784)"
   ]
  },
  {
   "cell_type": "code",
   "execution_count": 43,
   "metadata": {},
   "outputs": [
    {
     "name": "stdout",
     "output_type": "stream",
     "text": [
      "Epoch 1/20\n",
      "60/60 [==============================] - 0s 3ms/step - loss: 0.1208\n",
      "Epoch 2/20\n",
      "60/60 [==============================] - 0s 2ms/step - loss: 0.1188\n",
      "Epoch 3/20\n",
      "60/60 [==============================] - 0s 2ms/step - loss: 0.1173\n",
      "Epoch 4/20\n",
      "60/60 [==============================] - 0s 3ms/step - loss: 0.1157\n",
      "Epoch 5/20\n",
      "60/60 [==============================] - 0s 3ms/step - loss: 0.1144\n",
      "Epoch 6/20\n",
      "60/60 [==============================] - 0s 3ms/step - loss: 0.1134\n",
      "Epoch 7/20\n",
      "60/60 [==============================] - 0s 3ms/step - loss: 0.1123\n",
      "Epoch 8/20\n",
      "60/60 [==============================] - 0s 3ms/step - loss: 0.1113\n",
      "Epoch 9/20\n",
      "60/60 [==============================] - 0s 3ms/step - loss: 0.1105\n",
      "Epoch 10/20\n",
      "60/60 [==============================] - 0s 3ms/step - loss: 0.1097\n",
      "Epoch 11/20\n",
      "60/60 [==============================] - 0s 3ms/step - loss: 0.1087\n",
      "Epoch 12/20\n",
      "60/60 [==============================] - 0s 3ms/step - loss: 0.1076\n",
      "Epoch 13/20\n",
      "60/60 [==============================] - 0s 3ms/step - loss: 0.1073\n",
      "Epoch 14/20\n",
      "60/60 [==============================] - 0s 3ms/step - loss: 0.1064\n",
      "Epoch 15/20\n",
      "60/60 [==============================] - 0s 3ms/step - loss: 0.1058\n",
      "Epoch 16/20\n",
      "60/60 [==============================] - 0s 3ms/step - loss: 0.1052\n",
      "Epoch 17/20\n",
      "60/60 [==============================] - 0s 3ms/step - loss: 0.1045\n",
      "Epoch 18/20\n",
      "60/60 [==============================] - 0s 3ms/step - loss: 0.1042\n",
      "Epoch 19/20\n",
      "60/60 [==============================] - 0s 3ms/step - loss: 0.1036\n",
      "Epoch 20/20\n",
      "60/60 [==============================] - 0s 3ms/step - loss: 0.1033\n"
     ]
    },
    {
     "data": {
      "text/plain": [
       "<tensorflow.python.keras.callbacks.History at 0x7fc828051940>"
      ]
     },
     "execution_count": 43,
     "metadata": {},
     "output_type": "execute_result"
    }
   ],
   "source": [
    "model.fit(\n",
    "    X_train.reshape(60000, 784),\n",
    "    y_train,\n",
    "    epochs=20,\n",
    "    batch_size=1000)"
   ]
  },
  {
   "cell_type": "code",
   "execution_count": 42,
   "metadata": {},
   "outputs": [
    {
     "name": "stdout",
     "output_type": "stream",
     "text": [
      "True\n"
     ]
    }
   ],
   "source": [
    "print(y_train[17])"
   ]
  },
  {
   "cell_type": "code",
   "execution_count": 40,
   "metadata": {},
   "outputs": [
    {
     "data": {
      "image/png": "[encoded data removed]",
      "text/plain": [
       "<Figure size 432x288 with 1 Axes>"
      ]
     },
     "metadata": {
      "needs_background": "light"
     },
     "output_type": "display_data"
    }
   ],
   "source": [
    "%matplotlib inline\n",
    "import matplotlib.pyplot as plt\n",
    "\n",
    "plt.imshow(X_train[17], cmap=\"gray_r\")\n",
    "plt.show()"
   ]
  },
  {
   "cell_type": "code",
   "execution_count": 87,
   "metadata": {},
   "outputs": [
    {
     "data": {
      "text/plain": [
       "(1, 784)"
      ]
     },
     "execution_count": 87,
     "metadata": {},
     "output_type": "execute_result"
    }
   ],
   "source": [
    "X_train[0].reshape(1, 784).shape"
   ]
  },
  {
   "cell_type": "code",
   "execution_count": 44,
   "metadata": {},
   "outputs": [
    {
     "data": {
      "text/plain": [
       "array([[0.8531157]], dtype=float32)"
      ]
     },
     "execution_count": 44,
     "metadata": {},
     "output_type": "execute_result"
    }
   ],
   "source": [
    "model.predict(X_train[17].reshape(1, 784))"
   ]
  },
  {
   "cell_type": "code",
   "execution_count": null,
   "metadata": {},
   "outputs": [],
   "source": []
  },
  {
   "cell_type": "code",
   "execution_count": null,
   "metadata": {},
   "outputs": [],
   "source": []
  }
 ],
 "metadata": {
  "kernelspec": {
   "display_name": "Python 3",
   "language": "python",
   "name": "python3"
  },
  "language_info": {
   "codemirror_mode": {
    "name": "ipython",
    "version": 3
   },
   "file_extension": ".py",
   "mimetype": "text/x-python",
   "name": "python",
   "nbconvert_exporter": "python",
   "pygments_lexer": "ipython3",
   "version": "3.8.3"
  }
 },
 "nbformat": 4,
 "nbformat_minor": 2
}
