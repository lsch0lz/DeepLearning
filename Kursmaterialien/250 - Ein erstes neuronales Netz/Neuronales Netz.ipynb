{
 "cells": [
  {
   "cell_type": "code",
   "execution_count": 45,
   "metadata": {},
   "outputs": [],
   "source": [
    "# Vorstellung: MNIST-Daten!\n",
    "# http://yann.lecun.com/exdb/mnist/\n",
    "# FashionMNIST: https://github.com/zalandoresearch/fashion-mnist\n",
    "\n",
    "import gzip\n",
    "import numpy as np\n",
    "\n",
    "def open_images(filename):\n",
    "    with gzip.open(filename, \"rb\") as file:\n",
    "        data = file.read()\n",
    "        return np.frombuffer(data, dtype=np.uint8, offset=16)\\\n",
    "            .reshape(-1, 28, 28)\\\n",
    "            .astype(np.float32)\n",
    "\n",
    "\n",
    "def open_labels(filename):\n",
    "    with gzip.open(filename, \"rb\") as file:\n",
    "        data = file.read()\n",
    "        return np.frombuffer(data, dtype=np.uint8, offset=8)\n",
    "    \n",
    "X_train = open_images(\"../data/fashion/train-images-idx3-ubyte.gz\")\n",
    "y_train = open_labels(\"../data/fashion/train-labels-idx1-ubyte.gz\")\n",
    "\n",
    "y_train = y_train == 0"
   ]
  },
  {
   "cell_type": "code",
   "execution_count": 46,
   "metadata": {},
   "outputs": [],
   "source": [
    "from keras.models import Sequential\n",
    "from keras.layers import Dense"
   ]
  },
  {
   "cell_type": "code",
   "execution_count": 47,
   "metadata": {},
   "outputs": [],
   "source": [
    "model = Sequential()\n",
    "\n",
    "#hidden layer\n",
    "model.add(Dense(100, activation=\"sigmoid\", input_shape=(784,)))\n",
    "\n",
    "#output layer\n",
    "model.add(Dense(1, activation=\"sigmoid\"))\n",
    "\n",
    "#kompilieren des Modells -> effizienter auf der GPU\n",
    "#optimizer -> nach welchem Verfahren werden die Gewichte aktualisiert?\n",
    "#sgd = stochastic gradient \n",
    "model.compile(optimizer=\"sgd\", loss=\"binary_crossentropy\")"
   ]
  },
  {
   "cell_type": "code",
   "execution_count": 48,
   "metadata": {},
   "outputs": [
    {
     "data": {
      "text/plain": [
       "array([[0., 0., 0., ..., 0., 0., 0.],\n",
       "       [0., 0., 0., ..., 0., 0., 0.],\n",
       "       [0., 0., 0., ..., 0., 0., 0.],\n",
       "       ...,\n",
       "       [0., 0., 0., ..., 0., 0., 0.],\n",
       "       [0., 0., 0., ..., 0., 0., 0.],\n",
       "       [0., 0., 0., ..., 0., 0., 0.]], dtype=float32)"
      ]
     },
     "execution_count": 48,
     "metadata": {},
     "output_type": "execute_result"
    }
   ],
   "source": [
    "X_train.reshape(60000, 784)"
   ]
  },
  {
   "cell_type": "code",
   "execution_count": 58,
   "metadata": {},
   "outputs": [
    {
     "name": "stdout",
     "output_type": "stream",
     "text": [
      "Epoch 1/100\n",
      "60/60 [==============================] - 0s 3ms/step - loss: 0.1073\n",
      "Epoch 2/100\n",
      "60/60 [==============================] - 0s 3ms/step - loss: 0.1068\n",
      "Epoch 3/100\n",
      "60/60 [==============================] - 0s 3ms/step - loss: 0.1059\n",
      "Epoch 4/100\n",
      "60/60 [==============================] - 0s 3ms/step - loss: 0.1056\n",
      "Epoch 5/100\n",
      "60/60 [==============================] - 0s 3ms/step - loss: 0.1052\n",
      "Epoch 6/100\n",
      "60/60 [==============================] - 0s 3ms/step - loss: 0.1045\n",
      "Epoch 7/100\n",
      "60/60 [==============================] - 0s 3ms/step - loss: 0.1042\n",
      "Epoch 8/100\n",
      "60/60 [==============================] - 0s 3ms/step - loss: 0.1033\n",
      "Epoch 9/100\n",
      "60/60 [==============================] - 0s 3ms/step - loss: 0.1028\n",
      "Epoch 10/100\n",
      "60/60 [==============================] - 0s 3ms/step - loss: 0.1022\n",
      "Epoch 11/100\n",
      "60/60 [==============================] - 0s 3ms/step - loss: 0.1014\n",
      "Epoch 12/100\n",
      "60/60 [==============================] - 0s 3ms/step - loss: 0.1013\n",
      "Epoch 13/100\n",
      "60/60 [==============================] - 0s 3ms/step - loss: 0.1006\n",
      "Epoch 14/100\n",
      "60/60 [==============================] - 0s 3ms/step - loss: 0.1006\n",
      "Epoch 15/100\n",
      "60/60 [==============================] - 0s 3ms/step - loss: 0.0999\n",
      "Epoch 16/100\n",
      "60/60 [==============================] - 0s 3ms/step - loss: 0.0996\n",
      "Epoch 17/100\n",
      "60/60 [==============================] - 0s 3ms/step - loss: 0.0989\n",
      "Epoch 18/100\n",
      "60/60 [==============================] - 0s 3ms/step - loss: 0.0985\n",
      "Epoch 19/100\n",
      "60/60 [==============================] - 0s 3ms/step - loss: 0.0979\n",
      "Epoch 20/100\n",
      "60/60 [==============================] - 0s 3ms/step - loss: 0.0972\n",
      "Epoch 21/100\n",
      "60/60 [==============================] - 0s 3ms/step - loss: 0.0974\n",
      "Epoch 22/100\n",
      "60/60 [==============================] - 0s 3ms/step - loss: 0.0968\n",
      "Epoch 23/100\n",
      "60/60 [==============================] - 0s 3ms/step - loss: 0.0967\n",
      "Epoch 24/100\n",
      "60/60 [==============================] - 0s 3ms/step - loss: 0.0967\n",
      "Epoch 25/100\n",
      "60/60 [==============================] - 0s 2ms/step - loss: 0.0964\n",
      "Epoch 26/100\n",
      "60/60 [==============================] - 0s 2ms/step - loss: 0.0960\n",
      "Epoch 27/100\n",
      "60/60 [==============================] - 0s 2ms/step - loss: 0.0958\n",
      "Epoch 28/100\n",
      "60/60 [==============================] - 0s 3ms/step - loss: 0.0948\n",
      "Epoch 29/100\n",
      "60/60 [==============================] - 0s 2ms/step - loss: 0.0945\n",
      "Epoch 30/100\n",
      "60/60 [==============================] - 0s 3ms/step - loss: 0.0944\n",
      "Epoch 31/100\n",
      "60/60 [==============================] - 0s 3ms/step - loss: 0.0941\n",
      "Epoch 32/100\n",
      "60/60 [==============================] - 0s 3ms/step - loss: 0.0938\n",
      "Epoch 33/100\n",
      "60/60 [==============================] - 0s 2ms/step - loss: 0.0933\n",
      "Epoch 34/100\n",
      "60/60 [==============================] - 0s 3ms/step - loss: 0.0934\n",
      "Epoch 35/100\n",
      "60/60 [==============================] - 0s 3ms/step - loss: 0.0929\n",
      "Epoch 36/100\n",
      "60/60 [==============================] - 0s 3ms/step - loss: 0.0923\n",
      "Epoch 37/100\n",
      "60/60 [==============================] - 0s 2ms/step - loss: 0.0922\n",
      "Epoch 38/100\n",
      "60/60 [==============================] - 0s 3ms/step - loss: 0.0922\n",
      "Epoch 39/100\n",
      "60/60 [==============================] - 0s 3ms/step - loss: 0.0918\n",
      "Epoch 40/100\n",
      "60/60 [==============================] - 0s 2ms/step - loss: 0.0914\n",
      "Epoch 41/100\n",
      "60/60 [==============================] - 0s 3ms/step - loss: 0.0911\n",
      "Epoch 42/100\n",
      "60/60 [==============================] - 0s 3ms/step - loss: 0.0911\n",
      "Epoch 43/100\n",
      "60/60 [==============================] - 0s 2ms/step - loss: 0.0906\n",
      "Epoch 44/100\n",
      "60/60 [==============================] - 0s 2ms/step - loss: 0.0901\n",
      "Epoch 45/100\n",
      "60/60 [==============================] - 0s 3ms/step - loss: 0.0902\n",
      "Epoch 46/100\n",
      "60/60 [==============================] - 0s 3ms/step - loss: 0.0903\n",
      "Epoch 47/100\n",
      "60/60 [==============================] - 0s 3ms/step - loss: 0.0900\n",
      "Epoch 48/100\n",
      "60/60 [==============================] - 0s 3ms/step - loss: 0.0898\n",
      "Epoch 49/100\n",
      "60/60 [==============================] - 0s 3ms/step - loss: 0.0894\n",
      "Epoch 50/100\n",
      "60/60 [==============================] - 0s 3ms/step - loss: 0.0889\n",
      "Epoch 51/100\n",
      "60/60 [==============================] - 0s 3ms/step - loss: 0.0885\n",
      "Epoch 52/100\n",
      "60/60 [==============================] - 0s 2ms/step - loss: 0.0884\n",
      "Epoch 53/100\n",
      "60/60 [==============================] - 0s 3ms/step - loss: 0.0882\n",
      "Epoch 54/100\n",
      "60/60 [==============================] - 0s 3ms/step - loss: 0.0879\n",
      "Epoch 55/100\n",
      "60/60 [==============================] - 0s 3ms/step - loss: 0.0876\n",
      "Epoch 56/100\n",
      "60/60 [==============================] - 0s 2ms/step - loss: 0.0873\n",
      "Epoch 57/100\n",
      "60/60 [==============================] - 0s 2ms/step - loss: 0.0872\n",
      "Epoch 58/100\n",
      "60/60 [==============================] - 0s 2ms/step - loss: 0.0870\n",
      "Epoch 59/100\n",
      "60/60 [==============================] - 0s 2ms/step - loss: 0.0867\n",
      "Epoch 60/100\n",
      "60/60 [==============================] - 0s 2ms/step - loss: 0.0864\n",
      "Epoch 61/100\n",
      "60/60 [==============================] - 0s 2ms/step - loss: 0.0867\n",
      "Epoch 62/100\n",
      "60/60 [==============================] - 0s 2ms/step - loss: 0.0863\n",
      "Epoch 63/100\n",
      "60/60 [==============================] - 0s 2ms/step - loss: 0.0858\n",
      "Epoch 64/100\n",
      "60/60 [==============================] - 0s 2ms/step - loss: 0.0859\n",
      "Epoch 65/100\n",
      "60/60 [==============================] - 0s 3ms/step - loss: 0.0854\n",
      "Epoch 66/100\n",
      "60/60 [==============================] - 0s 3ms/step - loss: 0.0855\n",
      "Epoch 67/100\n",
      "60/60 [==============================] - 0s 3ms/step - loss: 0.0853\n",
      "Epoch 68/100\n",
      "60/60 [==============================] - 0s 3ms/step - loss: 0.0849\n",
      "Epoch 69/100\n",
      "60/60 [==============================] - 0s 2ms/step - loss: 0.0851\n",
      "Epoch 70/100\n",
      "60/60 [==============================] - 0s 2ms/step - loss: 0.0847\n",
      "Epoch 71/100\n",
      "60/60 [==============================] - 0s 2ms/step - loss: 0.0849\n",
      "Epoch 72/100\n",
      "60/60 [==============================] - 0s 2ms/step - loss: 0.0844\n",
      "Epoch 73/100\n",
      "60/60 [==============================] - 0s 2ms/step - loss: 0.0843\n",
      "Epoch 74/100\n",
      "60/60 [==============================] - 0s 3ms/step - loss: 0.0844\n",
      "Epoch 75/100\n",
      "60/60 [==============================] - 0s 2ms/step - loss: 0.0839\n",
      "Epoch 76/100\n",
      "60/60 [==============================] - 0s 3ms/step - loss: 0.0838\n",
      "Epoch 77/100\n",
      "60/60 [==============================] - 0s 3ms/step - loss: 0.0835\n",
      "Epoch 78/100\n",
      "60/60 [==============================] - 0s 3ms/step - loss: 0.0836\n",
      "Epoch 79/100\n",
      "60/60 [==============================] - 0s 3ms/step - loss: 0.0835\n",
      "Epoch 80/100\n",
      "60/60 [==============================] - 0s 3ms/step - loss: 0.0829\n",
      "Epoch 81/100\n",
      "60/60 [==============================] - 0s 2ms/step - loss: 0.0829\n",
      "Epoch 82/100\n",
      "60/60 [==============================] - 0s 2ms/step - loss: 0.0831\n",
      "Epoch 83/100\n",
      "60/60 [==============================] - 0s 2ms/step - loss: 0.0835\n",
      "Epoch 84/100\n",
      "60/60 [==============================] - 0s 2ms/step - loss: 0.0831\n",
      "Epoch 85/100\n",
      "60/60 [==============================] - 0s 2ms/step - loss: 0.0827\n",
      "Epoch 86/100\n",
      "60/60 [==============================] - 0s 2ms/step - loss: 0.0826\n",
      "Epoch 87/100\n",
      "60/60 [==============================] - 0s 2ms/step - loss: 0.0821\n",
      "Epoch 88/100\n",
      "60/60 [==============================] - 0s 2ms/step - loss: 0.0823\n",
      "Epoch 89/100\n",
      "60/60 [==============================] - 0s 2ms/step - loss: 0.0817\n",
      "Epoch 90/100\n",
      "60/60 [==============================] - 0s 2ms/step - loss: 0.0816\n",
      "Epoch 91/100\n",
      "60/60 [==============================] - 0s 2ms/step - loss: 0.0818\n",
      "Epoch 92/100\n",
      "60/60 [==============================] - 0s 2ms/step - loss: 0.0819\n",
      "Epoch 93/100\n",
      "60/60 [==============================] - 0s 3ms/step - loss: 0.0818\n",
      "Epoch 94/100\n",
      "60/60 [==============================] - 0s 2ms/step - loss: 0.0815\n",
      "Epoch 95/100\n",
      "60/60 [==============================] - 0s 2ms/step - loss: 0.0811\n",
      "Epoch 96/100\n",
      "60/60 [==============================] - 0s 3ms/step - loss: 0.0809\n",
      "Epoch 97/100\n",
      "60/60 [==============================] - 0s 2ms/step - loss: 0.0808\n",
      "Epoch 98/100\n",
      "60/60 [==============================] - 0s 2ms/step - loss: 0.0807\n",
      "Epoch 99/100\n",
      "60/60 [==============================] - 0s 2ms/step - loss: 0.0803\n",
      "Epoch 100/100\n",
      "60/60 [==============================] - 0s 2ms/step - loss: 0.0803\n"
     ]
    },
    {
     "data": {
      "text/plain": [
       "<tensorflow.python.keras.callbacks.History at 0x7fc827e4b940>"
      ]
     },
     "execution_count": 58,
     "metadata": {},
     "output_type": "execute_result"
    }
   ],
   "source": [
    "model.fit(\n",
    "    X_train.reshape(60000, 784),\n",
    "    y_train,\n",
    "    epochs=100,\n",
    "    batch_size=1000)"
   ]
  },
  {
   "cell_type": "code",
   "execution_count": 59,
   "metadata": {},
   "outputs": [
    {
     "name": "stdout",
     "output_type": "stream",
     "text": [
      "True\n"
     ]
    }
   ],
   "source": [
    "print(y_train[17])"
   ]
  },
  {
   "cell_type": "code",
   "execution_count": 60,
   "metadata": {},
   "outputs": [
    {
     "data": {
      "image/png": "[encoded data removed]",
      "text/plain": [
       "<Figure size 432x288 with 1 Axes>"
      ]
     },
     "metadata": {
      "needs_background": "light"
     },
     "output_type": "display_data"
    }
   ],
   "source": [
    "%matplotlib inline\n",
    "import matplotlib.pyplot as plt\n",
    "\n",
    "plt.imshow(X_train[1], cmap=\"gray_r\")\n",
    "plt.show()"
   ]
  },
  {
   "cell_type": "code",
   "execution_count": 61,
   "metadata": {},
   "outputs": [
    {
     "data": {
      "text/plain": [
       "(1, 784)"
      ]
     },
     "execution_count": 61,
     "metadata": {},
     "output_type": "execute_result"
    }
   ],
   "source": [
    "X_train[0].reshape(1, 784).shape"
   ]
  },
  {
   "cell_type": "code",
   "execution_count": 62,
   "metadata": {},
   "outputs": [
    {
     "data": {
      "text/plain": [
       "array([[0.96554315]], dtype=float32)"
      ]
     },
     "execution_count": 62,
     "metadata": {},
     "output_type": "execute_result"
    }
   ],
   "source": [
    "model.predict(X_train[1].reshape(1, 784))"
   ]
  },
  {
   "cell_type": "code",
   "execution_count": null,
   "metadata": {},
   "outputs": [],
   "source": []
  },
  {
   "cell_type": "code",
   "execution_count": null,
   "metadata": {},
   "outputs": [],
   "source": []
  }
 ],
 "metadata": {
  "kernelspec": {
   "display_name": "Python 3",
   "language": "python",
   "name": "python3"
  },
  "language_info": {
   "codemirror_mode": {
    "name": "ipython",
    "version": 3
   },
   "file_extension": ".py",
   "mimetype": "text/x-python",
   "name": "python",
   "nbconvert_exporter": "python",
   "pygments_lexer": "ipython3",
   "version": "3.8.3"
  }
 },
 "nbformat": 4,
 "nbformat_minor": 2
}
