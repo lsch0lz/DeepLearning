{
 "cells": [
  {
   "cell_type": "code",
   "execution_count": 1,
   "metadata": {},
   "outputs": [],
   "source": [
    "# Vorstellung: MNIST-Daten!\n",
    "# http://yann.lecun.com/exdb/mnist/\n",
    "# FashionMNIST: https://github.com/zalandoresearch/fashion-mnist\n",
    "\n",
    "import gzip\n",
    "import numpy as np\n",
    "from keras.utils import to_categorical\n",
    "\n",
    "def open_images(filename):\n",
    "    with gzip.open(filename, \"rb\") as file:\n",
    "        data = file.read()\n",
    "        return np.frombuffer(data, dtype=np.uint8, offset=16)\\\n",
    "            .reshape(-1, 28, 28)\\\n",
    "            .astype(np.float32)\n",
    "\n",
    "\n",
    "def open_labels(filename):\n",
    "    with gzip.open(filename, \"rb\") as file:\n",
    "        data = file.read()\n",
    "        return np.frombuffer(data, dtype=np.uint8, offset=8)\n",
    "    \n",
    "X_train = open_images(\"../data/fashion/train-images-idx3-ubyte.gz\")\n",
    "y_train = open_labels(\"../data/fashion/train-labels-idx1-ubyte.gz\")\n",
    "\n",
    "X_test = open_images(\"../data/fashion/t10k-images-idx3-ubyte.gz\")\n",
    "y_test = open_labels(\"../data/fashion/t10k-labels-idx1-ubyte.gz\")\n",
    "\n",
    "y_train = to_categorical(y_train)\n",
    "y_test = to_categorical(y_test)"
   ]
  },
  {
   "cell_type": "code",
   "execution_count": 2,
   "metadata": {},
   "outputs": [
    {
     "name": "stdout",
     "output_type": "stream",
     "text": [
      "Epoch 1/10\n",
      "60/60 [==============================] - 3s 46ms/step - loss: 1.3541 - accuracy: 0.6292\n",
      "Epoch 2/10\n",
      "60/60 [==============================] - 3s 46ms/step - loss: 0.6311 - accuracy: 0.7756\n",
      "Epoch 3/10\n",
      "60/60 [==============================] - 3s 47ms/step - loss: 0.5070 - accuracy: 0.8204\n",
      "Epoch 4/10\n",
      "60/60 [==============================] - 3s 50ms/step - loss: 0.4488 - accuracy: 0.8399\n",
      "Epoch 5/10\n",
      "60/60 [==============================] - 3s 49ms/step - loss: 0.4119 - accuracy: 0.8530\n",
      "Epoch 6/10\n",
      "60/60 [==============================] - 3s 48ms/step - loss: 0.3919 - accuracy: 0.8592\n",
      "Epoch 7/10\n",
      "60/60 [==============================] - 3s 49ms/step - loss: 0.3640 - accuracy: 0.8670\n",
      "Epoch 8/10\n",
      "60/60 [==============================] - 3s 48ms/step - loss: 0.3457 - accuracy: 0.8743\n",
      "Epoch 9/10\n",
      "60/60 [==============================] - 3s 49ms/step - loss: 0.3321 - accuracy: 0.8800\n",
      "Epoch 10/10\n",
      "60/60 [==============================] - 3s 49ms/step - loss: 0.3137 - accuracy: 0.8862\n"
     ]
    },
    {
     "data": {
      "text/plain": [
       "<tensorflow.python.keras.callbacks.History at 0x7f9800fd9d30>"
      ]
     },
     "execution_count": 2,
     "metadata": {},
     "output_type": "execute_result"
    }
   ],
   "source": [
    "from keras.models import Sequential\n",
    "from keras.layers import Dense, Conv2D, Flatten\n",
    "\n",
    "model = Sequential()\n",
    "\n",
    "model.add(Conv2D(10, kernel_size=(3, 3), activation=\"sigmoid\", input_shape=(28, 28, 1)))\n",
    "model.add(Flatten())\n",
    "model.add(Dense(10, activation=\"softmax\"))\n",
    "\n",
    "model.compile(optimizer=\"rmsprop\", loss=\"categorical_crossentropy\", metrics=[\"accuracy\"])\n",
    "model.fit(X_train.reshape(60000, 28, 28, 1), y_train, epochs=10, batch_size=1000)"
   ]
  },
  {
   "cell_type": "code",
   "execution_count": 3,
   "metadata": {},
   "outputs": [],
   "source": [
    "model2 = Sequential()\n",
    "\n",
    "model2.add(Conv2D(10, \n",
    "                  kernel_size=(3, 3), \n",
    "                  activation=\"sigmoid\", \n",
    "                  input_shape=(28, 28, 1), \n",
    "                  weights=model.layers[0].get_weights()))"
   ]
  },
  {
   "cell_type": "code",
   "execution_count": 4,
   "metadata": {},
   "outputs": [
    {
     "data": {
      "image/png": "[encoded data removed]",
      "text/plain": [
       "<Figure size 432x288 with 1 Axes>"
      ]
     },
     "metadata": {
      "needs_background": "light"
     },
     "output_type": "display_data"
    }
   ],
   "source": [
    "%matplotlib inline\n",
    "\n",
    "import matplotlib.pyplot as plt\n",
    "\n",
    "plt.imshow(X_test[0], cmap=\"gray_r\")\n",
    "plt.show()"
   ]
  },
  {
   "cell_type": "code",
   "execution_count": 5,
   "metadata": {},
   "outputs": [],
   "source": [
    "result = model2.predict(X_test[0].reshape(1, 28, 28, 1))"
   ]
  },
  {
   "cell_type": "code",
   "execution_count": 6,
   "metadata": {},
   "outputs": [
    {
     "data": {
      "text/plain": [
       "(1, 26, 26, 10)"
      ]
     },
     "execution_count": 6,
     "metadata": {},
     "output_type": "execute_result"
    }
   ],
   "source": [
    "result.shape"
   ]
  },
  {
   "cell_type": "code",
   "execution_count": 7,
   "metadata": {},
   "outputs": [
    {
     "data": {
      "text/plain": [
       "(26, 26, 10)"
      ]
     },
     "execution_count": 7,
     "metadata": {},
     "output_type": "execute_result"
    }
   ],
   "source": [
    "result[0].shape"
   ]
  },
  {
   "cell_type": "code",
   "execution_count": 8,
   "metadata": {},
   "outputs": [
    {
     "data": {
      "text/plain": [
       "array([[4.22133058e-01, 4.22133058e-01, 4.22133058e-01, 4.22133058e-01,\n",
       "        4.22133058e-01, 4.22133058e-01, 4.22133058e-01, 4.22133058e-01,\n",
       "        4.22133058e-01, 4.22133058e-01, 4.22133058e-01, 4.22133058e-01,\n",
       "        4.22133058e-01, 4.22133058e-01, 4.22133058e-01, 4.22133058e-01,\n",
       "        4.22133058e-01, 4.22133058e-01, 4.22133058e-01, 4.22133058e-01,\n",
       "        4.22133058e-01, 4.22133058e-01, 4.22133058e-01, 4.22133058e-01,\n",
       "        4.22133058e-01, 4.22133058e-01],\n",
       "       [4.22133058e-01, 4.22133058e-01, 4.22133058e-01, 4.22133058e-01,\n",
       "        4.22133058e-01, 4.22133058e-01, 4.22133058e-01, 4.22133058e-01,\n",
       "        4.22133058e-01, 4.22133058e-01, 4.22133058e-01, 4.22133058e-01,\n",
       "        4.22133058e-01, 4.22133058e-01, 4.22133058e-01, 4.22133058e-01,\n",
       "        4.22133058e-01, 4.22133058e-01, 4.22133058e-01, 4.22133058e-01,\n",
       "        4.22133058e-01, 4.22133058e-01, 4.22133058e-01, 4.22133058e-01,\n",
       "        4.22133058e-01, 4.22133058e-01],\n",
       "       [4.22133058e-01, 4.22133058e-01, 4.22133058e-01, 4.22133058e-01,\n",
       "        4.22133058e-01, 4.22133058e-01, 4.22133058e-01, 4.22133058e-01,\n",
       "        4.22133058e-01, 4.22133058e-01, 4.22133058e-01, 4.22133058e-01,\n",
       "        4.22133058e-01, 4.22133058e-01, 4.22133058e-01, 4.22133058e-01,\n",
       "        4.22133058e-01, 4.22133058e-01, 4.22133058e-01, 4.22133058e-01,\n",
       "        4.22133058e-01, 4.22133058e-01, 4.22133058e-01, 4.22133058e-01,\n",
       "        4.22133058e-01, 4.22133058e-01],\n",
       "       [4.22133058e-01, 4.22133058e-01, 4.22133058e-01, 4.22133058e-01,\n",
       "        4.22133058e-01, 4.22133058e-01, 4.22133058e-01, 4.22133058e-01,\n",
       "        4.22133058e-01, 4.22133058e-01, 4.22133058e-01, 4.22133058e-01,\n",
       "        4.22133058e-01, 4.22133058e-01, 4.22133058e-01, 4.22133058e-01,\n",
       "        4.22133058e-01, 4.22133058e-01, 4.22133058e-01, 4.22133058e-01,\n",
       "        4.22133058e-01, 4.22133058e-01, 4.22133058e-01, 4.22133058e-01,\n",
       "        4.22133058e-01, 4.22133058e-01],\n",
       "       [4.22133058e-01, 4.22133058e-01, 4.22133058e-01, 4.22133058e-01,\n",
       "        4.22133058e-01, 4.22133058e-01, 4.22133058e-01, 4.22133058e-01,\n",
       "        4.22133058e-01, 4.22133058e-01, 4.22133058e-01, 4.22133058e-01,\n",
       "        4.22133058e-01, 4.22133058e-01, 4.22133058e-01, 4.22133058e-01,\n",
       "        4.22133058e-01, 4.22133058e-01, 4.22133058e-01, 4.22133058e-01,\n",
       "        4.22133058e-01, 4.22133058e-01, 4.22133058e-01, 4.22133058e-01,\n",
       "        4.22133058e-01, 4.22133058e-01],\n",
       "       [4.22133058e-01, 4.22133058e-01, 4.22133058e-01, 4.22133058e-01,\n",
       "        4.22133058e-01, 4.22133058e-01, 4.22133058e-01, 4.22133058e-01,\n",
       "        4.22133058e-01, 4.22133058e-01, 4.22133058e-01, 4.22133058e-01,\n",
       "        4.22133058e-01, 4.22133058e-01, 4.22133058e-01, 4.22133058e-01,\n",
       "        4.22133058e-01, 4.29750443e-01, 2.53751725e-01, 5.03681004e-01,\n",
       "        4.70453829e-01, 4.39958364e-01, 1.06928617e-01, 8.08471739e-01,\n",
       "        5.15406209e-05, 9.99019861e-01],\n",
       "       [4.22133058e-01, 4.22133058e-01, 4.22133058e-01, 4.22133058e-01,\n",
       "        4.22133058e-01, 4.22133058e-01, 4.22133058e-01, 4.22133058e-01,\n",
       "        4.22133058e-01, 4.22133058e-01, 4.22133058e-01, 4.24668252e-01,\n",
       "        3.65491331e-01, 3.46370518e-01, 5.88498473e-01, 1.63045526e-03,\n",
       "        6.06796959e-08, 9.99998569e-01, 8.93021941e-01, 3.61168355e-01,\n",
       "        3.95099729e-01, 5.00250161e-01, 5.60208976e-01, 8.58580589e-01,\n",
       "        6.13757255e-13, 1.00000000e+00],\n",
       "       [4.22133058e-01, 4.22133058e-01, 4.22133058e-01, 4.22133058e-01,\n",
       "        4.22133058e-01, 4.22133058e-01, 4.22133058e-01, 4.22133058e-01,\n",
       "        4.22133058e-01, 4.22133058e-01, 4.22133058e-01, 4.35699254e-01,\n",
       "        4.00606781e-01, 4.82168019e-01, 8.30771744e-01, 1.61422264e-07,\n",
       "        3.93302116e-07, 5.49128090e-05, 1.00000000e+00, 4.26238656e-01,\n",
       "        4.05511558e-01, 2.08167434e-01, 3.00235152e-02, 1.05618148e-09,\n",
       "        9.99720335e-01, 9.89832163e-01],\n",
       "       [4.22133058e-01, 4.22133058e-01, 4.22133058e-01, 4.22133058e-01,\n",
       "        4.22133058e-01, 4.22133058e-01, 4.22133058e-01, 4.22133058e-01,\n",
       "        4.22133058e-01, 4.22133058e-01, 4.22133058e-01, 3.99843693e-01,\n",
       "        1.97359085e-01, 7.83048570e-01, 1.15998353e-06, 2.27540173e-08,\n",
       "        1.00000000e+00, 5.83131668e-11, 5.71354053e-13, 7.36054778e-03,\n",
       "        1.55110120e-05, 4.70962107e-01, 2.46384740e-03, 5.15947562e-11,\n",
       "        1.00000000e+00, 9.99148369e-01],\n",
       "       [4.22133058e-01, 4.22133058e-01, 4.22133058e-01, 4.22133058e-01,\n",
       "        4.22133058e-01, 4.22133058e-01, 4.22133058e-01, 4.22133058e-01,\n",
       "        4.22133058e-01, 4.22133058e-01, 4.27207440e-01, 3.03781807e-01,\n",
       "        6.75186276e-01, 5.33899367e-01, 3.43351423e-17, 1.17384315e-01,\n",
       "        8.25411320e-01, 9.97562826e-01, 1.31717471e-07, 7.72017241e-03,\n",
       "        1.50561333e-04, 4.46883277e-08, 7.94858206e-05, 2.42704153e-03,\n",
       "        8.25708508e-01, 9.92871404e-01],\n",
       "       [4.22133058e-01, 4.22133058e-01, 4.22133058e-01, 4.22133058e-01,\n",
       "        4.24668252e-01, 3.60688388e-01, 4.75630969e-01, 3.05689871e-01,\n",
       "        4.54878986e-01, 4.78221595e-01, 2.69122362e-01, 4.29817855e-01,\n",
       "        8.85036767e-01, 1.99910956e-14, 1.28399521e-01, 6.01056635e-01,\n",
       "        6.76749856e-09, 1.36929771e-07, 2.11920500e-01, 2.40413215e-07,\n",
       "        5.75086474e-03, 7.62776793e-08, 9.63943749e-05, 4.76717949e-04,\n",
       "        9.79544520e-01, 8.86634469e-01],\n",
       "       [4.22133058e-01, 4.22133058e-01, 4.24668252e-01, 3.60688388e-01,\n",
       "        4.81678426e-01, 4.41620052e-01, 4.16801214e-01, 4.72489536e-01,\n",
       "        3.94785464e-01, 2.56168544e-01, 5.38451135e-01, 6.72450125e-01,\n",
       "        6.90671653e-09, 7.36149596e-12, 9.99994278e-01, 9.95516777e-04,\n",
       "        1.98236871e-10, 7.20530748e-04, 3.61672044e-02, 1.41646026e-07,\n",
       "        2.97816939e-07, 5.92708588e-04, 2.62439251e-04, 2.96747276e-05,\n",
       "        9.91779208e-01, 1.80283189e-03],\n",
       "       [4.22133058e-01, 4.22133058e-01, 4.33147758e-01, 4.41620052e-01,\n",
       "        3.58060718e-01, 3.61975849e-01, 2.02384979e-01, 6.16939962e-01,\n",
       "        5.25484204e-01, 3.36226344e-01, 7.37911940e-01, 1.35325950e-09,\n",
       "        1.97110300e-10, 9.99913692e-01, 1.07194064e-05, 3.90884707e-05,\n",
       "        2.04545785e-08, 3.22951019e-01, 5.71059445e-07, 9.12396499e-05,\n",
       "        4.28192325e-05, 8.49905409e-05, 9.03434466e-06, 4.22207631e-05,\n",
       "        9.99772191e-01, 4.76432560e-10],\n",
       "       [4.27207440e-01, 3.07898402e-01, 3.52611125e-01, 5.15541971e-01,\n",
       "        3.51249039e-01, 6.02587521e-01, 4.56338733e-01, 3.35770696e-01,\n",
       "        3.33625823e-01, 5.25915623e-03, 2.03872741e-08, 3.13171222e-05,\n",
       "        1.09909266e-01, 2.24267304e-01, 4.08293590e-06, 2.79343082e-09,\n",
       "        6.64013624e-03, 1.12242997e-02, 3.09370520e-08, 1.58799357e-05,\n",
       "        1.45703554e-04, 1.38857961e-03, 3.99878627e-06, 6.35087781e-05,\n",
       "        9.99900222e-01, 4.45432320e-12],\n",
       "       [5.89787126e-01, 4.83718336e-01, 4.17277992e-01, 4.08930719e-01,\n",
       "        3.48797619e-01, 3.56749356e-01, 9.80323553e-03, 1.24216080e-04,\n",
       "        1.12633961e-05, 1.14446580e-02, 9.20023922e-06, 7.81723857e-03,\n",
       "        7.53051043e-03, 1.56016577e-05, 2.86638737e-04, 5.87634403e-08,\n",
       "        5.60146868e-02, 2.00877057e-08, 4.45365076e-05, 2.30014324e-04,\n",
       "        4.96141802e-05, 9.61214304e-04, 1.48478523e-06, 2.19523907e-04,\n",
       "        2.90118098e-01, 1.71526611e-01],\n",
       "       [3.16878408e-01, 3.65537405e-03, 1.28477812e-04, 2.41908431e-03,\n",
       "        2.54905224e-03, 4.64403629e-03, 1.53362751e-04, 4.68376875e-02,\n",
       "        2.00095773e-02, 1.73764886e-06, 7.66488910e-03, 4.08351421e-03,\n",
       "        1.43869502e-05, 2.72899866e-03, 1.21808705e-06, 2.23666430e-04,\n",
       "        6.49121106e-02, 9.64511937e-09, 1.73712671e-02, 1.93935733e-07,\n",
       "        2.68052918e-06, 5.10050654e-02, 1.21703906e-07, 1.27809670e-07,\n",
       "        7.01434474e-05, 9.99961376e-01],\n",
       "       [1.04248485e-07, 2.23800540e-03, 6.51010156e-01, 4.74005938e-04,\n",
       "        1.33551657e-02, 3.36369872e-03, 2.41193175e-03, 4.61208547e-05,\n",
       "        2.63314405e-06, 1.36405230e-04, 6.03675842e-04, 5.37161350e-06,\n",
       "        3.75613570e-03, 3.17513943e-04, 5.47716979e-07, 2.69454108e-06,\n",
       "        5.58942556e-04, 6.11427022e-05, 5.83944023e-02, 6.78412206e-08,\n",
       "        9.87289241e-06, 3.58778238e-03, 3.46714258e-03, 1.37869347e-06,\n",
       "        1.10559176e-06, 4.68971699e-01],\n",
       "       [6.78241630e-11, 4.72060800e-01, 3.84057850e-01, 3.96849811e-02,\n",
       "        8.23348761e-04, 3.66214590e-05, 1.36011839e-03, 6.12589717e-03,\n",
       "        1.31666660e-02, 2.13742256e-04, 1.16771460e-03, 1.07042470e-05,\n",
       "        1.07485561e-04, 9.53505605e-06, 1.76608562e-04, 5.06056858e-06,\n",
       "        2.22589946e-08, 5.49124707e-06, 3.96804936e-08, 8.07396209e-05,\n",
       "        3.12340853e-05, 1.59544591e-08, 4.92814615e-06, 5.65692208e-05,\n",
       "        9.61512455e-07, 9.99924064e-01],\n",
       "       [1.20762724e-08, 3.77196246e-10, 4.66304995e-10, 1.14064078e-05,\n",
       "        3.87387408e-05, 5.86537935e-05, 2.07516551e-03, 6.06775284e-04,\n",
       "        4.75060940e-03, 1.11352798e-04, 5.48357784e-05, 2.50309706e-04,\n",
       "        2.15447038e-09, 9.60545066e-08, 5.03514593e-06, 1.34736300e-04,\n",
       "        3.25592782e-11, 9.59782720e-01, 1.33061985e-05, 2.04358683e-11,\n",
       "        2.35814582e-06, 3.12232146e-07, 9.99812855e-09, 9.53412382e-07,\n",
       "        3.39666428e-07, 9.99284089e-01],\n",
       "       [1.00000000e+00, 9.98137951e-01, 1.57488823e-01, 2.51983806e-07,\n",
       "        2.55133727e-06, 6.77310846e-11, 3.28829870e-08, 2.74288432e-08,\n",
       "        5.80841437e-08, 1.42359313e-05, 1.18996309e-06, 5.49733639e-04,\n",
       "        1.08114183e-02, 4.78640795e-02, 9.99798596e-01, 9.99997497e-01,\n",
       "        5.36431253e-01, 6.03705645e-04, 7.27330446e-02, 3.31150211e-17,\n",
       "        1.33083482e-08, 1.89507008e-03, 1.29062219e-05, 4.94778156e-04,\n",
       "        2.06040795e-06, 9.99251902e-01],\n",
       "       [1.91660225e-02, 1.86625123e-02, 5.40637970e-01, 9.88943279e-01,\n",
       "        9.95846927e-01, 9.99301672e-01, 9.59966063e-01, 9.12476599e-01,\n",
       "        1.85755759e-01, 3.79739523e-01, 1.26815736e-02, 3.28153372e-04,\n",
       "        4.30884957e-03, 3.31967885e-06, 6.38343636e-07, 1.74208550e-10,\n",
       "        9.80407953e-01, 5.08519113e-02, 1.62479773e-05, 1.00000000e+00,\n",
       "        3.02970707e-01, 8.52853060e-04, 3.46133113e-03, 1.84374839e-01,\n",
       "        1.99440718e-02, 1.00000000e+00],\n",
       "       [4.22133058e-01, 7.88814723e-02, 6.67989661e-05, 5.64575195e-03,\n",
       "        2.42354963e-05, 1.54781938e-02, 2.57843733e-03, 1.92952156e-03,\n",
       "        7.10213184e-03, 5.00145555e-03, 5.34272194e-03, 8.41307342e-02,\n",
       "        7.09269643e-01, 9.95398402e-01, 9.98002768e-01, 1.54554248e-02,\n",
       "        2.96868801e-01, 4.22133058e-01, 1.13331331e-14, 8.92472744e-01,\n",
       "        5.40582180e-01, 1.76567137e-02, 3.85260582e-02, 1.09559596e-02,\n",
       "        3.72866690e-02, 1.00000000e+00],\n",
       "       [4.22133058e-01, 4.22133058e-01, 4.22133058e-01, 4.22133058e-01,\n",
       "        4.22133058e-01, 4.22133058e-01, 4.22133058e-01, 4.22133058e-01,\n",
       "        4.22133058e-01, 4.22133058e-01, 4.22133058e-01, 4.22133058e-01,\n",
       "        4.22133058e-01, 4.22133058e-01, 4.22133058e-01, 4.22133058e-01,\n",
       "        4.22133058e-01, 4.22133058e-01, 4.22133058e-01, 4.22133058e-01,\n",
       "        4.22133058e-01, 4.22133058e-01, 4.22133058e-01, 4.22133058e-01,\n",
       "        4.22133058e-01, 4.22133058e-01],\n",
       "       [4.22133058e-01, 4.22133058e-01, 4.22133058e-01, 4.22133058e-01,\n",
       "        4.22133058e-01, 4.22133058e-01, 4.22133058e-01, 4.22133058e-01,\n",
       "        4.22133058e-01, 4.22133058e-01, 4.22133058e-01, 4.22133058e-01,\n",
       "        4.22133058e-01, 4.22133058e-01, 4.22133058e-01, 4.22133058e-01,\n",
       "        4.22133058e-01, 4.22133058e-01, 4.22133058e-01, 4.22133058e-01,\n",
       "        4.22133058e-01, 4.22133058e-01, 4.22133058e-01, 4.22133058e-01,\n",
       "        4.22133058e-01, 4.22133058e-01],\n",
       "       [4.22133058e-01, 4.22133058e-01, 4.22133058e-01, 4.22133058e-01,\n",
       "        4.22133058e-01, 4.22133058e-01, 4.22133058e-01, 4.22133058e-01,\n",
       "        4.22133058e-01, 4.22133058e-01, 4.22133058e-01, 4.22133058e-01,\n",
       "        4.22133058e-01, 4.22133058e-01, 4.22133058e-01, 4.22133058e-01,\n",
       "        4.22133058e-01, 4.22133058e-01, 4.22133058e-01, 4.22133058e-01,\n",
       "        4.22133058e-01, 4.22133058e-01, 4.22133058e-01, 4.22133058e-01,\n",
       "        4.22133058e-01, 4.22133058e-01],\n",
       "       [4.22133058e-01, 4.22133058e-01, 4.22133058e-01, 4.22133058e-01,\n",
       "        4.22133058e-01, 4.22133058e-01, 4.22133058e-01, 4.22133058e-01,\n",
       "        4.22133058e-01, 4.22133058e-01, 4.22133058e-01, 4.22133058e-01,\n",
       "        4.22133058e-01, 4.22133058e-01, 4.22133058e-01, 4.22133058e-01,\n",
       "        4.22133058e-01, 4.22133058e-01, 4.22133058e-01, 4.22133058e-01,\n",
       "        4.22133058e-01, 4.22133058e-01, 4.22133058e-01, 4.22133058e-01,\n",
       "        4.22133058e-01, 4.22133058e-01]], dtype=float32)"
      ]
     },
     "execution_count": 8,
     "metadata": {},
     "output_type": "execute_result"
    }
   ],
   "source": [
    "result[0][:, :, 0]"
   ]
  },
  {
   "cell_type": "code",
   "execution_count": 19,
   "metadata": {},
   "outputs": [
    {
     "data": {
      "image/png": "[encoded data removed]",
      "text/plain": [
       "<Figure size 432x288 with 1 Axes>"
      ]
     },
     "metadata": {
      "needs_background": "light"
     },
     "output_type": "display_data"
    }
   ],
   "source": [
    "plt.imshow(result[0][:, :, 7])\n",
    "plt.show()"
   ]
  },
  {
   "cell_type": "code",
   "execution_count": 10,
   "metadata": {},
   "outputs": [
    {
     "name": "stdout",
     "output_type": "stream",
     "text": [
      "60/60 [==============================] - 8s 139ms/step - loss: 2.1771 - accuracy: 0.3817\n"
     ]
    },
    {
     "data": {
      "text/plain": [
       "<tensorflow.python.keras.callbacks.History at 0x7f97d6530940>"
      ]
     },
     "execution_count": 10,
     "metadata": {},
     "output_type": "execute_result"
    }
   ],
   "source": [
    "from keras.models import Sequential\n",
    "from keras.layers import Dense, Conv2D, Flatten\n",
    "\n",
    "model3 = Sequential()\n",
    "\n",
    "model3.add(Conv2D(10, kernel_size=(3, 3), activation=\"sigmoid\", input_shape=(28, 28, 1)))\n",
    "model3.add(Conv2D(10, kernel_size=(3, 3), activation=\"sigmoid\"))\n",
    "model3.add(Flatten())\n",
    "model3.add(Dense(10, activation=\"softmax\"))\n",
    "\n",
    "model3.compile(optimizer=\"rmsprop\", loss=\"categorical_crossentropy\", metrics=[\"accuracy\"])\n",
    "model3.fit(X_train.reshape(60000, 28, 28, 1), y_train, epochs=1, batch_size=1000)"
   ]
  },
  {
   "cell_type": "code",
   "execution_count": null,
   "metadata": {},
   "outputs": [],
   "source": []
  },
  {
   "cell_type": "code",
   "execution_count": null,
   "metadata": {},
   "outputs": [],
   "source": []
  }
 ],
 "metadata": {
  "kernelspec": {
   "display_name": "Python 3",
   "language": "python",
   "name": "python3"
  },
  "language_info": {
   "codemirror_mode": {
    "name": "ipython",
    "version": 3
   },
   "file_extension": ".py",
   "mimetype": "text/x-python",
   "name": "python",
   "nbconvert_exporter": "python",
   "pygments_lexer": "ipython3",
   "version": "3.8.3"
  }
 },
 "nbformat": 4,
 "nbformat_minor": 2
}
