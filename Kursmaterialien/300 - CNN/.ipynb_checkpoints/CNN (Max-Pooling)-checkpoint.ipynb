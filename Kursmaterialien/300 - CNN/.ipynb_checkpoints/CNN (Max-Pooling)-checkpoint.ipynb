{
 "cells": [
  {
   "cell_type": "code",
   "execution_count": 1,
   "metadata": {},
   "outputs": [],
   "source": [
    "# Vorstellung: MNIST-Daten!\n",
    "# http://yann.lecun.com/exdb/mnist/\n",
    "# FashionMNIST: https://github.com/zalandoresearch/fashion-mnist\n",
    "\n",
    "import gzip\n",
    "import numpy as np\n",
    "from keras.utils import to_categorical\n",
    "\n",
    "def open_images(filename):\n",
    "    with gzip.open(filename, \"rb\") as file:\n",
    "        data = file.read()\n",
    "        return np.frombuffer(data, dtype=np.uint8, offset=16)\\\n",
    "            .reshape(-1, 28, 28)\\\n",
    "            .astype(np.float32)\n",
    "\n",
    "\n",
    "def open_labels(filename):\n",
    "    with gzip.open(filename, \"rb\") as file:\n",
    "        data = file.read()\n",
    "        return np.frombuffer(data, dtype=np.uint8, offset=8)\n",
    "    \n",
    "X_train = open_images(\"../data/fashion/train-images-idx3-ubyte.gz\")\n",
    "y_train = open_labels(\"../data/fashion/train-labels-idx1-ubyte.gz\")\n",
    "\n",
    "X_test = open_images(\"../data/fashion/t10k-images-idx3-ubyte.gz\")\n",
    "y_test = open_labels(\"../data/fashion/t10k-labels-idx1-ubyte.gz\")\n",
    "\n",
    "y_train = to_categorical(y_train)\n",
    "y_test = to_categorical(y_test)"
   ]
  },
  {
   "cell_type": "code",
   "execution_count": 6,
   "metadata": {},
   "outputs": [
    {
     "name": "stdout",
     "output_type": "stream",
     "text": [
      "Epoch 1/20\n",
      "60/60 [==============================] - 12s 205ms/step - loss: 25.3026 - accuracy: 0.6326\n",
      "Epoch 2/20\n",
      "60/60 [==============================] - 12s 206ms/step - loss: 1.5726 - accuracy: 0.8072\n",
      "Epoch 3/20\n",
      "60/60 [==============================] - 12s 203ms/step - loss: 0.5361 - accuracy: 0.8479\n",
      "Epoch 4/20\n",
      "60/60 [==============================] - 12s 205ms/step - loss: 0.3490 - accuracy: 0.8789\n",
      "Epoch 5/20\n",
      "60/60 [==============================] - 12s 206ms/step - loss: 0.2904 - accuracy: 0.8960\n",
      "Epoch 6/20\n",
      "60/60 [==============================] - 12s 205ms/step - loss: 0.2544 - accuracy: 0.9069\n",
      "Epoch 7/20\n",
      "60/60 [==============================] - 12s 201ms/step - loss: 0.2314 - accuracy: 0.9143\n",
      "Epoch 8/20\n",
      "60/60 [==============================] - 12s 201ms/step - loss: 0.2144 - accuracy: 0.9202\n",
      "Epoch 9/20\n",
      "60/60 [==============================] - 12s 202ms/step - loss: 0.1963 - accuracy: 0.9266\n",
      "Epoch 10/20\n",
      "60/60 [==============================] - 12s 201ms/step - loss: 0.1841 - accuracy: 0.9317\n",
      "Epoch 11/20\n",
      "60/60 [==============================] - 12s 206ms/step - loss: 0.1768 - accuracy: 0.9327\n",
      "Epoch 12/20\n",
      "60/60 [==============================] - 12s 202ms/step - loss: 0.1653 - accuracy: 0.9384\n",
      "Epoch 13/20\n",
      "60/60 [==============================] - 12s 201ms/step - loss: 0.1574 - accuracy: 0.9410\n",
      "Epoch 14/20\n",
      "60/60 [==============================] - 12s 200ms/step - loss: 0.1539 - accuracy: 0.9425\n",
      "Epoch 15/20\n",
      "60/60 [==============================] - 12s 201ms/step - loss: 0.1426 - accuracy: 0.9468\n",
      "Epoch 16/20\n",
      "60/60 [==============================] - 12s 204ms/step - loss: 0.1394 - accuracy: 0.9480\n",
      "Epoch 17/20\n",
      "60/60 [==============================] - 12s 202ms/step - loss: 0.1343 - accuracy: 0.9491\n",
      "Epoch 18/20\n",
      "60/60 [==============================] - 12s 200ms/step - loss: 0.1311 - accuracy: 0.9515\n",
      "Epoch 19/20\n",
      "60/60 [==============================] - 12s 201ms/step - loss: 0.1228 - accuracy: 0.9536\n",
      "Epoch 20/20\n",
      "60/60 [==============================] - 12s 202ms/step - loss: 0.1246 - accuracy: 0.9533\n"
     ]
    },
    {
     "data": {
      "text/plain": [
       "<tensorflow.python.keras.callbacks.History at 0x7f9e8574d670>"
      ]
     },
     "execution_count": 6,
     "metadata": {},
     "output_type": "execute_result"
    }
   ],
   "source": [
    "# CNN (Max-Pooling, RELU)!\n",
    "\n",
    "from keras.models import Sequential\n",
    "from keras.layers import Dense, Conv2D, MaxPooling2D, Flatten\n",
    "\n",
    "model = Sequential()\n",
    "\n",
    "model.add(Conv2D(50, kernel_size=(3, 3), activation=\"relu\", input_shape=(28, 28, 1)))\n",
    "model.add(MaxPooling2D(pool_size=(2, 2)))\n",
    "model.add(Flatten())\n",
    "model.add(Dense(10, activation=\"softmax\"))\n",
    "\n",
    "model.compile(optimizer=\"rmsprop\", loss=\"categorical_crossentropy\", metrics=[\"accuracy\"])\n",
    "\n",
    "model.fit(\n",
    "    X_train.reshape(60000, 28, 28, 1),\n",
    "    y_train,\n",
    "    epochs=20,\n",
    "    batch_size=1000)"
   ]
  },
  {
   "cell_type": "code",
   "execution_count": 7,
   "metadata": {},
   "outputs": [
    {
     "name": "stdout",
     "output_type": "stream",
     "text": [
      "313/313 [==============================] - 0s 1ms/step - loss: 0.4509 - accuracy: 0.8900\n"
     ]
    },
    {
     "data": {
      "text/plain": [
       "[0.4509390592575073, 0.8899999856948853]"
      ]
     },
     "execution_count": 7,
     "metadata": {},
     "output_type": "execute_result"
    }
   ],
   "source": [
    "model.evaluate(X_test.reshape(-1, 28, 28, 1), y_test)"
   ]
  },
  {
   "cell_type": "code",
   "execution_count": 4,
   "metadata": {},
   "outputs": [
    {
     "name": "stdout",
     "output_type": "stream",
     "text": [
      "Epoch 1/10\n",
      "60/60 [==============================] - 3s 56ms/step - loss: 1.2157 - accuracy: 0.6109\n",
      "Epoch 2/10\n",
      "60/60 [==============================] - 3s 56ms/step - loss: 0.6757 - accuracy: 0.7566\n",
      "Epoch 3/10\n",
      "60/60 [==============================] - 3s 56ms/step - loss: 0.5759 - accuracy: 0.7882\n",
      "Epoch 4/10\n",
      "60/60 [==============================] - 3s 56ms/step - loss: 0.5229 - accuracy: 0.8081\n",
      "Epoch 5/10\n",
      "60/60 [==============================] - 3s 56ms/step - loss: 0.4852 - accuracy: 0.8224\n",
      "Epoch 6/10\n",
      "60/60 [==============================] - 3s 57ms/step - loss: 0.4602 - accuracy: 0.8319\n",
      "Epoch 7/10\n",
      "60/60 [==============================] - 3s 57ms/step - loss: 0.4371 - accuracy: 0.8393\n",
      "Epoch 8/10\n",
      "60/60 [==============================] - 3s 57ms/step - loss: 0.4205 - accuracy: 0.8460\n",
      "Epoch 9/10\n",
      "60/60 [==============================] - 3s 57ms/step - loss: 0.4049 - accuracy: 0.8526\n",
      "Epoch 10/10\n",
      "60/60 [==============================] - 3s 56ms/step - loss: 0.3940 - accuracy: 0.8564\n"
     ]
    },
    {
     "data": {
      "text/plain": [
       "<tensorflow.python.keras.callbacks.History at 0x7f9ea522dd30>"
      ]
     },
     "execution_count": 4,
     "metadata": {},
     "output_type": "execute_result"
    }
   ],
   "source": [
    "# CNN (Max-Pooling, Sigmoid)!\n",
    "\n",
    "from keras.models import Sequential\n",
    "from keras.layers import Dense, Conv2D, MaxPooling2D, Flatten\n",
    "\n",
    "model2 = Sequential()\n",
    "\n",
    "model2.add(Conv2D(10, kernel_size=(3, 3), activation=\"sigmoid\", input_shape=(28, 28, 1)))\n",
    "model2.add(MaxPooling2D(pool_size=(2, 2)))\n",
    "model2.add(Flatten())\n",
    "model2.add(Dense(10, activation=\"softmax\"))\n",
    "\n",
    "model2.compile(optimizer=\"rmsprop\", loss=\"categorical_crossentropy\", metrics=[\"accuracy\"])\n",
    "\n",
    "model2.fit(\n",
    "    X_train.reshape(60000, 28, 28, 1),\n",
    "    y_train,\n",
    "    epochs=10,\n",
    "    batch_size=1000)"
   ]
  },
  {
   "cell_type": "code",
   "execution_count": 5,
   "metadata": {},
   "outputs": [
    {
     "name": "stdout",
     "output_type": "stream",
     "text": [
      "313/313 [==============================] - 0s 956us/step - loss: 0.4182 - accuracy: 0.8472\n"
     ]
    },
    {
     "data": {
      "text/plain": [
       "[0.41815122961997986, 0.8471999764442444]"
      ]
     },
     "execution_count": 5,
     "metadata": {},
     "output_type": "execute_result"
    }
   ],
   "source": [
    "model2.evaluate(X_test.reshape(-1, 28, 28, 1), y_test)"
   ]
  },
  {
   "cell_type": "code",
   "execution_count": null,
   "metadata": {},
   "outputs": [],
   "source": []
  },
  {
   "cell_type": "code",
   "execution_count": null,
   "metadata": {},
   "outputs": [],
   "source": []
  }
 ],
 "metadata": {
  "kernelspec": {
   "display_name": "Python 3",
   "language": "python",
   "name": "python3"
  },
  "language_info": {
   "codemirror_mode": {
    "name": "ipython",
    "version": 3
   },
   "file_extension": ".py",
   "mimetype": "text/x-python",
   "name": "python",
   "nbconvert_exporter": "python",
   "pygments_lexer": "ipython3",
   "version": "3.8.3"
  }
 },
 "nbformat": 4,
 "nbformat_minor": 2
}
