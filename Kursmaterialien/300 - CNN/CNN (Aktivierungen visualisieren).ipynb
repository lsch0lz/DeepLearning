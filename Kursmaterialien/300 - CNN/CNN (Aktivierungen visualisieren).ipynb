{
 "cells": [
  {
   "cell_type": "code",
   "execution_count": 1,
   "metadata": {},
   "outputs": [],
   "source": [
    "# Vorstellung: MNIST-Daten!\n",
    "# http://yann.lecun.com/exdb/mnist/\n",
    "# FashionMNIST: https://github.com/zalandoresearch/fashion-mnist\n",
    "\n",
    "import gzip\n",
    "import numpy as np\n",
    "from keras.utils import to_categorical\n",
    "\n",
    "def open_images(filename):\n",
    "    with gzip.open(filename, \"rb\") as file:\n",
    "        data = file.read()\n",
    "        return np.frombuffer(data, dtype=np.uint8, offset=16)\\\n",
    "            .reshape(-1, 28, 28)\\\n",
    "            .astype(np.float32)\n",
    "\n",
    "\n",
    "def open_labels(filename):\n",
    "    with gzip.open(filename, \"rb\") as file:\n",
    "        data = file.read()\n",
    "        return np.frombuffer(data, dtype=np.uint8, offset=8)\n",
    "    \n",
    "X_train = open_images(\"../data/fashion/train-images-idx3-ubyte.gz\")\n",
    "y_train = open_labels(\"../data/fashion/train-labels-idx1-ubyte.gz\")\n",
    "\n",
    "X_test = open_images(\"../data/fashion/t10k-images-idx3-ubyte.gz\")\n",
    "y_test = open_labels(\"../data/fashion/t10k-labels-idx1-ubyte.gz\")\n",
    "\n",
    "y_train = to_categorical(y_train)\n",
    "y_test = to_categorical(y_test)"
   ]
  },
  {
   "cell_type": "code",
   "execution_count": 2,
   "metadata": {},
   "outputs": [
    {
     "name": "stdout",
     "output_type": "stream",
     "text": [
      "Epoch 1/10\n",
      "60/60 [==============================] - 3s 48ms/step - loss: 1.8911 - accuracy: 0.5690\n",
      "Epoch 2/10\n",
      "60/60 [==============================] - 3s 47ms/step - loss: 0.7602 - accuracy: 0.7455\n",
      "Epoch 3/10\n",
      "60/60 [==============================] - 3s 47ms/step - loss: 0.5833 - accuracy: 0.8006\n",
      "Epoch 4/10\n",
      "60/60 [==============================] - 3s 46ms/step - loss: 0.5284 - accuracy: 0.8180\n",
      "Epoch 5/10\n",
      "60/60 [==============================] - 3s 46ms/step - loss: 0.4681 - accuracy: 0.8353\n",
      "Epoch 6/10\n",
      "60/60 [==============================] - 3s 48ms/step - loss: 0.4499 - accuracy: 0.8435\n",
      "Epoch 7/10\n",
      "60/60 [==============================] - 3s 46ms/step - loss: 0.4001 - accuracy: 0.8593\n",
      "Epoch 8/10\n",
      "60/60 [==============================] - 3s 47ms/step - loss: 0.3685 - accuracy: 0.8685\n",
      "Epoch 9/10\n",
      "60/60 [==============================] - 3s 47ms/step - loss: 0.3404 - accuracy: 0.8777\n",
      "Epoch 10/10\n",
      "60/60 [==============================] - 3s 46ms/step - loss: 0.3304 - accuracy: 0.8805\n"
     ]
    },
    {
     "data": {
      "text/plain": [
       "<tensorflow.python.keras.callbacks.History at 0x7ff97e353d30>"
      ]
     },
     "execution_count": 2,
     "metadata": {},
     "output_type": "execute_result"
    }
   ],
   "source": [
    "from keras.models import Sequential\n",
    "from keras.layers import Dense, Conv2D, Flatten\n",
    "\n",
    "model = Sequential()\n",
    "\n",
    "model.add(Conv2D(10, kernel_size=(3, 3), activation=\"sigmoid\", input_shape=(28, 28, 1)))\n",
    "model.add(Flatten())\n",
    "model.add(Dense(10, activation=\"softmax\"))\n",
    "\n",
    "model.compile(optimizer=\"rmsprop\", loss=\"categorical_crossentropy\", metrics=[\"accuracy\"])\n",
    "model.fit(X_train.reshape(60000, 28, 28, 1), y_train, epochs=10, batch_size=1000)"
   ]
  },
  {
   "cell_type": "code",
   "execution_count": 10,
   "metadata": {},
   "outputs": [
    {
     "name": "stdout",
     "output_type": "stream",
     "text": [
      "[<tensorflow.python.keras.layers.convolutional.Conv2D object at 0x7ff99aa4ba30>, <tensorflow.python.keras.layers.core.Flatten object at 0x7ff97df161c0>, <tensorflow.python.keras.layers.core.Dense object at 0x7ff97df16fa0>]\n",
      "Einzelne Layer:\n",
      "<tensorflow.python.keras.layers.convolutional.Conv2D object at 0x7ff99aa4ba30>\n",
      "Gewichte der Layer:\n"
     ]
    },
    {
     "data": {
      "text/plain": [
       "<tf.Variable 'conv2d/kernel:0' shape=(3, 3, 1, 10) dtype=float32, numpy=\n",
       "array([[[[-0.1424251 , -0.08169495,  0.05267952, -0.3766992 ,\n",
       "           0.06351596,  0.12520212,  0.12314769,  0.07553494,\n",
       "          -0.1939623 ,  0.13784179]],\n",
       "\n",
       "        [[-0.16632025,  0.11875755,  0.03387229, -0.1563759 ,\n",
       "           0.07545212, -0.25529462, -0.29844853,  0.22090445,\n",
       "           0.00065428, -0.00294788]],\n",
       "\n",
       "        [[-0.21672049, -0.10710628, -0.08003471, -0.08129453,\n",
       "           0.08741103, -0.14995725, -0.05118316, -0.24291089,\n",
       "           0.07610297, -0.21774936]]],\n",
       "\n",
       "\n",
       "       [[[ 0.1666791 , -0.1229443 , -0.18022026, -0.10844238,\n",
       "          -0.10965989, -0.04593079,  0.09328479, -0.13511121,\n",
       "          -0.19698033,  0.05918391]],\n",
       "\n",
       "        [[-0.12306833,  0.18345338, -0.02423183,  0.20330259,\n",
       "           0.01374796, -0.17944752, -0.08260337, -0.06580988,\n",
       "          -0.09390406,  0.1731022 ]],\n",
       "\n",
       "        [[-0.18215606, -0.0136807 ,  0.04831422,  0.06291549,\n",
       "          -0.06719925, -0.05068004,  0.0780225 ,  0.07692018,\n",
       "           0.13110143, -0.1706639 ]]],\n",
       "\n",
       "\n",
       "       [[[ 0.14120781, -0.15365289, -0.15947229,  0.02618728,\n",
       "           0.00980657,  0.01070294,  0.09363831, -0.02105118,\n",
       "           0.04516167, -0.02386375]],\n",
       "\n",
       "        [[-0.00702017,  0.10016394,  0.01477573, -0.01582154,\n",
       "          -0.17663595,  0.13671729, -0.27896604, -0.17324461,\n",
       "           0.04264078,  0.14880082]],\n",
       "\n",
       "        [[-0.03047061, -0.21079986, -0.02217836,  0.06194577,\n",
       "          -0.01096802,  0.14737871,  0.08909906,  0.17158985,\n",
       "           0.12640616, -0.13037585]]]], dtype=float32)>"
      ]
     },
     "execution_count": 10,
     "metadata": {},
     "output_type": "execute_result"
    }
   ],
   "source": [
    "print(model.layers)\n",
    "print(\"Einzelne Layer:\")\n",
    "print(model.layers[0])\n",
    "print(\"Gewichte der Layer:\")\n",
    "model.layers[0].weights[0]"
   ]
  },
  {
   "cell_type": "code",
   "execution_count": 11,
   "metadata": {},
   "outputs": [
    {
     "name": "stdout",
     "output_type": "stream",
     "text": [
      "[[[[-0.1424251  -0.08169495  0.05267952 -0.3766992   0.06351596\n",
      "     0.12520212  0.12314769  0.07553494 -0.1939623   0.13784179]]\n",
      "\n",
      "  [[-0.16632025  0.11875755  0.03387229 -0.1563759   0.07545212\n",
      "    -0.25529462 -0.29844853  0.22090445  0.00065428 -0.00294788]]\n",
      "\n",
      "  [[-0.21672049 -0.10710628 -0.08003471 -0.08129453  0.08741103\n",
      "    -0.14995725 -0.05118316 -0.24291089  0.07610297 -0.21774936]]]\n",
      "\n",
      "\n",
      " [[[ 0.1666791  -0.1229443  -0.18022026 -0.10844238 -0.10965989\n",
      "    -0.04593079  0.09328479 -0.13511121 -0.19698033  0.05918391]]\n",
      "\n",
      "  [[-0.12306833  0.18345338 -0.02423183  0.20330259  0.01374796\n",
      "    -0.17944752 -0.08260337 -0.06580988 -0.09390406  0.1731022 ]]\n",
      "\n",
      "  [[-0.18215606 -0.0136807   0.04831422  0.06291549 -0.06719925\n",
      "    -0.05068004  0.0780225   0.07692018  0.13110143 -0.1706639 ]]]\n",
      "\n",
      "\n",
      " [[[ 0.14120781 -0.15365289 -0.15947229  0.02618728  0.00980657\n",
      "     0.01070294  0.09363831 -0.02105118  0.04516167 -0.02386375]]\n",
      "\n",
      "  [[-0.00702017  0.10016394  0.01477573 -0.01582154 -0.17663595\n",
      "     0.13671729 -0.27896604 -0.17324461  0.04264078  0.14880082]]\n",
      "\n",
      "  [[-0.03047061 -0.21079986 -0.02217836  0.06194577 -0.01096802\n",
      "     0.14737871  0.08909906  0.17158985  0.12640616 -0.13037585]]]]\n"
     ]
    }
   ],
   "source": [
    "import keras.backend as K\n",
    "\n",
    "#Gewichte des Layers werden aus dem Speicher geladen\n",
    "data = K.eval(model.layers[0].weights[0])\n",
    "print(data)"
   ]
  },
  {
   "cell_type": "code",
   "execution_count": 12,
   "metadata": {},
   "outputs": [
    {
     "data": {
      "text/plain": [
       "array([[-0.1424251 , -0.16632025, -0.21672049],\n",
       "       [ 0.1666791 , -0.12306833, -0.18215606],\n",
       "       [ 0.14120781, -0.00702017, -0.03047061]], dtype=float32)"
      ]
     },
     "execution_count": 12,
     "metadata": {},
     "output_type": "execute_result"
    }
   ],
   "source": [
    "data[:, :, :, 0].reshape(3, 3)"
   ]
  },
  {
   "cell_type": "code",
   "execution_count": 14,
   "metadata": {},
   "outputs": [
    {
     "data": {
      "image/png": "[encoded data removed]",
      "text/plain": [
       "<Figure size 432x288 with 1 Axes>"
      ]
     },
     "metadata": {
      "needs_background": "light"
     },
     "output_type": "display_data"
    }
   ],
   "source": [
    "%matplotlib inline\n",
    "\n",
    "import matplotlib.pyplot as plt\n",
    "\n",
    "plt.imshow(data[:, :, :, 2].reshape(3, 3))\n",
    "plt.show()"
   ]
  },
  {
   "cell_type": "markdown",
   "metadata": {},
   "source": [
    "### Vergleich: https://en.wikipedia.org/wiki/Sobel_operator\n",
    "\n",
    "$ {\\displaystyle \\mathbf {G} _{x}={\\begin{bmatrix}+1&0&-1\\\\+2&0&-2\\\\+1&0&-1\\end{bmatrix}}*\\mathbf {A} \\quad {\\mbox{and}}\\quad \\mathbf {G} _{y}={\\begin{bmatrix}+1&+2&+1\\\\0&0&0\\\\-1&-2&-1\\end{bmatrix}}*\\mathbf {A} } $ "
   ]
  },
  {
   "cell_type": "code",
   "execution_count": null,
   "metadata": {},
   "outputs": [],
   "source": []
  }
 ],
 "metadata": {
  "kernelspec": {
   "display_name": "Python 3",
   "language": "python",
   "name": "python3"
  },
  "language_info": {
   "codemirror_mode": {
    "name": "ipython",
    "version": 3
   },
   "file_extension": ".py",
   "mimetype": "text/x-python",
   "name": "python",
   "nbconvert_exporter": "python",
   "pygments_lexer": "ipython3",
   "version": "3.8.3"
  }
 },
 "nbformat": 4,
 "nbformat_minor": 2
}
